{
  "cells": [
    {
      "cell_type": "markdown",
      "metadata": {
        "id": "ZqO0PRcFsPTe"
      },
      "source": [
        "### Datos\n",
        "El objecto es utilizar datos disponibles del challenge ConvAI2 (Conversational Intelligence Challenge 2) de conversaciones en inglés. Se construirá un BOT para responder a preguntas del usuario (QA).\\\n",
        "[LINK](http://convai.io/data/)"
      ]
    },
    {
      "cell_type": "code",
      "execution_count": 1,
      "metadata": {
        "id": "cq3YXak9sGHd"
      },
      "outputs": [],
      "source": [
        "import re\n",
        "\n",
        "import numpy as np\n",
        "import pandas as pd\n",
        "\n",
        "import tensorflow as tf\n",
        "from tensorflow.keras.preprocessing.text import one_hot\n",
        "from tensorflow.keras.utils import pad_sequences\n",
        "from keras.models import Sequential\n",
        "from keras.layers import Activation, Dropout, Dense\n",
        "from keras.layers import Flatten, LSTM, SimpleRNN\n",
        "from keras.models import Model\n",
        "from tensorflow.keras.layers import Embedding\n",
        "from sklearn.model_selection import train_test_split\n",
        "from tensorflow.keras.preprocessing.text import Tokenizer\n",
        "from keras.layers import Input\n",
        "from tensorflow.keras.preprocessing.sequence import pad_sequences"
      ]
    },
    {
      "cell_type": "code",
      "execution_count": 2,
      "metadata": {
        "colab": {
          "base_uri": "https://localhost:8080/"
        },
        "id": "RHNkUaPp6aYq",
        "outputId": "15a36fc8-f42d-4cd2-f944-55f76f417388"
      },
      "outputs": [
        {
          "name": "stdout",
          "output_type": "stream",
          "text": [
            "El dataset ya se encuentra descargado\n"
          ]
        }
      ],
      "source": [
        "# Descargar la carpeta de dataset\n",
        "import os\n",
        "import gdown\n",
        "if os.access('data_volunteers.json', os.F_OK) is False:\n",
        "    url = 'https://drive.google.com/uc?id=1awUxYwImF84MIT5-jCaYAPe2QwSgS1hN&export=download'\n",
        "    output = 'data_volunteers.json'\n",
        "    gdown.download(url, output, quiet=False)\n",
        "else:\n",
        "    print(\"El dataset ya se encuentra descargado\")"
      ]
    },
    {
      "cell_type": "code",
      "execution_count": 3,
      "metadata": {
        "id": "WZy1-wgG-Rp7"
      },
      "outputs": [],
      "source": [
        "# dataset_file\n",
        "import json\n",
        "\n",
        "text_file = \"data_volunteers.json\"\n",
        "with open(text_file) as f:\n",
        "    data = json.load(f) # la variable data será un diccionario\n",
        "\n"
      ]
    },
    {
      "cell_type": "code",
      "execution_count": 4,
      "metadata": {
        "colab": {
          "base_uri": "https://localhost:8080/"
        },
        "id": "ue5qd54S-eew",
        "outputId": "92f76484-2235-42d8-f42f-280bb4961941"
      },
      "outputs": [
        {
          "data": {
            "text/plain": [
              "dict_keys(['dialog', 'start_time', 'end_time', 'bot_profile', 'user_profile', 'eval_score', 'profile_match', 'participant1_id', 'participant2_id'])"
            ]
          },
          "execution_count": 4,
          "metadata": {},
          "output_type": "execute_result"
        }
      ],
      "source": [
        "# Observar los campos disponibles en cada linea del dataset\n",
        "data[0].keys()"
      ]
    },
    {
      "cell_type": "code",
      "execution_count": 5,
      "metadata": {
        "colab": {
          "base_uri": "https://localhost:8080/"
        },
        "id": "jHBRAXPl-3dz",
        "outputId": "a6949dc2-6829-47c1-817c-7d55ef457487"
      },
      "outputs": [
        {
          "name": "stdout",
          "output_type": "stream",
          "text": [
            "Cantidad de rows utilizadas: 6033\n"
          ]
        }
      ],
      "source": [
        "chat_in = []\n",
        "chat_out = []\n",
        "\n",
        "input_sentences = []\n",
        "output_sentences = []\n",
        "output_sentences_inputs = []\n",
        "max_len = 30\n",
        "\n",
        "def clean_text(txt):\n",
        "    txt = txt.lower()\n",
        "    txt.replace(\"\\'d\", \" had\")\n",
        "    txt.replace(\"\\'s\", \" is\")\n",
        "    txt.replace(\"\\'m\", \" am\")\n",
        "    txt.replace(\"don't\", \"do not\")\n",
        "    txt = re.sub(r'\\W+', ' ', txt)\n",
        "\n",
        "    return txt\n",
        "\n",
        "for line in data:\n",
        "    for i in range(len(line['dialog'])-1):\n",
        "        # vamos separando el texto en \"preguntas\" (chat_in)\n",
        "        # y \"respuestas\" (chat_out)\n",
        "        chat_in = clean_text(line['dialog'][i]['text'])\n",
        "        chat_out = clean_text(line['dialog'][i+1]['text'])\n",
        "\n",
        "        if len(chat_in) >= max_len or len(chat_out) >= max_len:\n",
        "            continue\n",
        "\n",
        "        input_sentence, output = chat_in, chat_out\n",
        "\n",
        "        # output sentence (decoder_output) tiene <eos>\n",
        "        output_sentence = output + ' <eos>'\n",
        "        # output sentence input (decoder_input) tiene <sos>\n",
        "        output_sentence_input = '<sos> ' + output\n",
        "\n",
        "        input_sentences.append(input_sentence)\n",
        "        output_sentences.append(output_sentence)\n",
        "        output_sentences_inputs.append(output_sentence_input)\n",
        "\n",
        "print(\"Cantidad de rows utilizadas:\", len(input_sentences))"
      ]
    },
    {
      "cell_type": "code",
      "execution_count": 6,
      "metadata": {
        "colab": {
          "base_uri": "https://localhost:8080/"
        },
        "id": "07L1qj8pC_l6",
        "outputId": "deab4a68-3f7a-4a96-8b9a-9afc845b5a7c"
      },
      "outputs": [
        {
          "data": {
            "text/plain": [
              "('hi how are you ', 'not bad and you  <eos>', '<sos> not bad and you ')"
            ]
          },
          "execution_count": 6,
          "metadata": {},
          "output_type": "execute_result"
        }
      ],
      "source": [
        "input_sentences[1], output_sentences[1], output_sentences_inputs[1]"
      ]
    },
    {
      "cell_type": "markdown",
      "metadata": {
        "id": "8P-ynUNP5xp6"
      },
      "source": [
        "### 2 - Preprocesamiento\n",
        "Realizar el preprocesamiento necesario para obtener:\n",
        "- word2idx_inputs, max_input_len\n",
        "- word2idx_outputs, max_out_len, num_words_output\n",
        "- encoder_input_sequences, decoder_output_sequences, decoder_targets"
      ]
    },
    {
      "cell_type": "code",
      "execution_count": 7,
      "metadata": {
        "colab": {
          "base_uri": "https://localhost:8080/"
        },
        "id": "6ZlSGRBe2C1J",
        "outputId": "c28fe89b-2fb1-4fa6-8406-669de04d7800"
      },
      "outputs": [
        {
          "name": "stdout",
          "output_type": "stream",
          "text": [
            "Palabras en el vocabulario de entrada: 1799\n",
            "Sentencia de entrada más larga: 9\n",
            "Palabras en el vocabulario de salida: 1806\n",
            "Sentencia de salida más larga: 10\n",
            "encoder_input_sequences shape: (6033, 16)\n",
            "decoder_input_sequences shape: (6033, 18)\n",
            "decoder_targets shape: (6033, 18, 1807)\n"
          ]
        }
      ],
      "source": [
        "\n",
        "from keras.preprocessing.sequence import pad_sequences\n",
        "from keras.utils import to_categorical\n",
        "\n",
        "MAX_VOCAB_SIZE = 8000\n",
        "\n",
        "# Tokenizador para inputs\n",
        "input_tokenizer = Tokenizer(num_words=MAX_VOCAB_SIZE)\n",
        "input_tokenizer.fit_on_texts(input_sentences)\n",
        "input_integer_seq = input_tokenizer.texts_to_sequences(input_sentences)\n",
        "\n",
        "word2idx_inputs = input_tokenizer.word_index\n",
        "print(\"Palabras en el vocabulario de entrada:\", len(word2idx_inputs))\n",
        "\n",
        "max_input_len = max(len(sen) for sen in input_integer_seq)\n",
        "print(\"Sentencia de entrada más larga:\", max_input_len)\n",
        "\n",
        "# Tokenizador para outputs\n",
        "output_tokenizer = Tokenizer(num_words=MAX_VOCAB_SIZE, filters='!\"#$%&()*+,-./:;=¿?@[\\\\]^_`{|}~\\t\\n')\n",
        "output_tokenizer.fit_on_texts([\"<sos>\", \"<eos>\"] + output_sentences)\n",
        "output_integer_seq = output_tokenizer.texts_to_sequences(output_sentences)\n",
        "output_input_integer_seq = output_tokenizer.texts_to_sequences(output_sentences_inputs)\n",
        "\n",
        "word2idx_outputs = output_tokenizer.word_index\n",
        "print(\"Palabras en el vocabulario de salida:\", len(word2idx_outputs))\n",
        "\n",
        "num_words_output = min(len(word2idx_outputs) + 1, MAX_VOCAB_SIZE)\n",
        "max_out_len = max(len(sen) for sen in output_integer_seq)\n",
        "print(\"Sentencia de salida más larga:\", max_out_len)\n",
        "\n",
        "# Limitar longitudes para cuidar RAM\n",
        "max_input_len = 16\n",
        "max_out_len = 18\n",
        "\n",
        "# Padding\n",
        "encoder_input_sequences = pad_sequences(input_integer_seq, maxlen=max_input_len)\n",
        "decoder_input_sequences = pad_sequences(output_input_integer_seq, maxlen=max_out_len, padding='post')\n",
        "decoder_output_sequences = pad_sequences(output_integer_seq, maxlen=max_out_len, padding='post')\n",
        "\n",
        "# One-hot encoding de la salida\n",
        "decoder_targets = to_categorical(decoder_output_sequences, num_classes=num_words_output)\n",
        "\n",
        "print(\"encoder_input_sequences shape:\", encoder_input_sequences.shape)\n",
        "print(\"decoder_input_sequences shape:\", decoder_input_sequences.shape)\n",
        "print(\"decoder_targets shape:\", decoder_targets.shape)"
      ]
    },
    {
      "cell_type": "markdown",
      "metadata": {
        "id": "_CJIsLBbj6rg"
      },
      "source": [
        "### 3 - Preparar los embeddings\n",
        "Utilizar los embeddings de Glove o FastText para transformar los tokens de entrada en vectores"
      ]
    },
    {
      "cell_type": "code",
      "execution_count": null,
      "metadata": {
        "colab": {
          "base_uri": "https://localhost:8080/"
        },
        "id": "Bwi-gwCx2-GB",
        "outputId": "98db4b4e-fe8c-4409-d38d-8810a7fbd1d7"
      },
      "outputs": [
        {
          "name": "stdout",
          "output_type": "stream",
          "text": [
            "Cargando modelo FastText... (puede tardar unos minutos)\n",
            "[==================================================] 100.0% 958.5/958.4MB downloaded\n",
            "Modelo cargado.\n"
          ]
        }
      ],
      "source": [
        "# Instalar gensim\n",
        "#!pip install gensim\n",
        "\n",
        "# Carga el modelo FastText preentrenado\n",
        "import gensim.downloader as api\n",
        "import numpy as np\n",
        "\n",
        "print(\"Cargando modelo FastTex\")\n",
        "fasttext_model = api.load('fasttext-wiki-news-subwords-300')\n",
        "print(\"Modelo cargado.\")\n",
        "\n",
        "# Armado de embedding_matrix con los vectores de FastText\n",
        "EMBEDDING_DIM = 300  #300 dimensiones\n",
        "vocab_size = min(MAX_VOCAB_SIZE, len(word2idx_inputs) + 1)\n",
        "\n",
        "embedding_matrix = np.zeros((vocab_size, EMBEDDING_DIM))\n",
        "\n",
        "for word, idx in word2idx_inputs.items():\n",
        "    if idx < MAX_VOCAB_SIZE:\n",
        "        if word in fasttext_model:\n",
        "            embedding_matrix[idx] = fasttext_model[word]"
      ]
    },
    {
      "cell_type": "markdown",
      "metadata": {
        "id": "3vKbhjtIwPgM"
      },
      "source": [
        "### 4 - Entrenar el modelo\n",
        "Entrenar un modelo basado en el esquema encoder-decoder utilizando los datos generados en los puntos anteriores. Utilce como referencias los ejemplos vistos en clase."
      ]
    },
    {
      "cell_type": "markdown",
      "metadata": {},
      "source": [
        "##### Encoder"
      ]
    },
    {
      "cell_type": "code",
      "execution_count": 19,
      "metadata": {
        "id": "rWfIC63-6Axz"
      },
      "outputs": [],
      "source": [
        "import torch\n",
        "import torch.nn as nn\n",
        "\n",
        "class Encoder(nn.Module):\n",
        "    def __init__(self, vocab_size, embedding_matrix):\n",
        "        super().__init__()\n",
        "        self.lstm_size = 256\n",
        "        self.num_layers = 1\n",
        "        self.embedding_dim = embedding_matrix.shape[1]\n",
        "\n",
        "        self.embedding = nn.Embedding(vocab_size, self.embedding_dim, padding_idx=0)\n",
        "        self.embedding.weight.data.copy_(torch.from_numpy(embedding_matrix))\n",
        "        self.embedding.weight.requires_grad = False\n",
        "\n",
        "        self.lstm = nn.LSTM(\n",
        "            input_size=self.embedding_dim,\n",
        "            hidden_size=self.lstm_size,\n",
        "            num_layers=self.num_layers,\n",
        "            batch_first=True\n",
        "        )\n",
        "\n",
        "    def forward(self, x):\n",
        "        x = self.embedding(x)\n",
        "        outputs, (h, c) = self.lstm(x)\n",
        "        return (h, c)"
      ]
    },
    {
      "cell_type": "markdown",
      "metadata": {},
      "source": [
        "##### Decoder"
      ]
    },
    {
      "cell_type": "code",
      "execution_count": null,
      "metadata": {
        "id": "ebQhetsd867j"
      },
      "outputs": [],
      "source": [
        "class Decoder(nn.Module):\n",
        "    def __init__(self, vocab_size):\n",
        "        super().__init__()\n",
        "        self.lstm_size = 256\n",
        "        self.num_layers = 1\n",
        "        self.embedding_dim = 256  \n",
        "\n",
        "        self.embedding = nn.Embedding(vocab_size, self.embedding_dim, padding_idx=0)\n",
        "\n",
        "        self.lstm = nn.LSTM(\n",
        "            input_size=self.embedding_dim,\n",
        "            hidden_size=self.lstm_size,\n",
        "            num_layers=self.num_layers,\n",
        "            batch_first=True\n",
        "        )\n",
        "\n",
        "        self.fc = nn.Linear(self.lstm_size, vocab_size)\n",
        "\n",
        "    def forward(self, x, prev_state):\n",
        "        x = self.embedding(x)\n",
        "        output, (h, c) = self.lstm(x, prev_state)\n",
        "        output = self.fc(output[:, -1, :])  \n",
        "        return output, (h, c)"
      ]
    },
    {
      "cell_type": "markdown",
      "metadata": {},
      "source": [
        "##### Modelo Seq2Seq"
      ]
    },
    {
      "cell_type": "code",
      "execution_count": 21,
      "metadata": {
        "id": "I-xfNUzl9_b1"
      },
      "outputs": [],
      "source": [
        "class Seq2Seq(nn.Module):\n",
        "    def __init__(self, encoder, decoder):\n",
        "        super().__init__()\n",
        "        self.encoder = encoder\n",
        "        self.decoder = decoder\n",
        "\n",
        "    def forward(self, encoder_input, decoder_input, teacher_forcing_ratio=0.5):\n",
        "        batch_size = decoder_input.shape[0]\n",
        "        target_len = decoder_input.shape[1]\n",
        "        vocab_size = self.decoder.fc.out_features\n",
        "\n",
        "        outputs = torch.zeros(batch_size, target_len, vocab_size).to(encoder_input.device)\n",
        "\n",
        "        state = self.encoder(encoder_input)\n",
        "        input = decoder_input[:, 0].unsqueeze(1)\n",
        "\n",
        "        for t in range(target_len):\n",
        "            output, state = self.decoder(input, state)\n",
        "            outputs[:, t, :] = output\n",
        "\n",
        "            top1 = output.argmax(1).unsqueeze(1)\n",
        "            teacher_force = torch.rand(1).item() < teacher_forcing_ratio\n",
        "            input = decoder_input[:, t].unsqueeze(1) if teacher_force else top1\n",
        "\n",
        "        return outputs\n"
      ]
    },
    {
      "cell_type": "markdown",
      "metadata": {},
      "source": [
        "##### Dataset y Dataloaders"
      ]
    },
    {
      "cell_type": "code",
      "execution_count": 22,
      "metadata": {
        "id": "uBA7Dlnb9TLo"
      },
      "outputs": [],
      "source": [
        "from torch.utils.data import Dataset, DataLoader\n",
        "from sklearn.model_selection import train_test_split\n",
        "\n",
        "# split 80/20\n",
        "X_train_enc, X_val_enc, X_train_dec_in, X_val_dec_in, X_train_dec_out, X_val_dec_out = train_test_split(\n",
        "    encoder_input_sequences, decoder_input_sequences, decoder_output_sequences,\n",
        "    test_size=0.2, random_state=42\n",
        ")\n",
        "\n",
        "class ChatDataset(Dataset):\n",
        "    def __init__(self, enc, dec_in, dec_out):\n",
        "        self.enc = enc\n",
        "        self.dec_in = dec_in\n",
        "        self.dec_out = dec_out\n",
        "\n",
        "    def __len__(self):\n",
        "        return len(self.enc)\n",
        "\n",
        "    def __getitem__(self, idx):\n",
        "        return (\n",
        "            torch.tensor(self.enc[idx], dtype=torch.long),\n",
        "            torch.tensor(self.dec_in[idx], dtype=torch.long),\n",
        "            torch.tensor(self.dec_out[idx], dtype=torch.long)\n",
        "        )\n",
        "\n",
        "train_loader = DataLoader(ChatDataset(X_train_enc, X_train_dec_in, X_train_dec_out), batch_size=64, shuffle=True)\n",
        "valid_loader = DataLoader(ChatDataset(X_val_enc, X_val_dec_in, X_val_dec_out), batch_size=64)"
      ]
    },
    {
      "cell_type": "markdown",
      "metadata": {},
      "source": [
        "##### Entrenamiento"
      ]
    },
    {
      "cell_type": "code",
      "execution_count": null,
      "metadata": {
        "id": "Ecw2bLZk9Vb7"
      },
      "outputs": [],
      "source": [
        "def train(model, train_loader, valid_loader, optimizer, criterion, epochs=10, teacher_forcing_ratio=0.5):\n",
        "    device = torch.device(\"cuda\" if torch.cuda.is_available() else \"cpu\")\n",
        "    model = model.to(device)\n",
        "\n",
        "    history = {'train_loss': [], 'val_loss': []}\n",
        "\n",
        "    for epoch in range(epochs):\n",
        "        model.train()\n",
        "        train_loss = 0\n",
        "\n",
        "        for batch in train_loader:\n",
        "            encoder_input, decoder_input, decoder_output = [x.to(device) for x in batch]\n",
        "            optimizer.zero_grad()\n",
        "\n",
        "            output = model(encoder_input, decoder_input, teacher_forcing_ratio)\n",
        "            loss = criterion(output.view(-1, output.shape[-1]), decoder_output.view(-1))\n",
        "\n",
        "            loss.backward()\n",
        "            torch.nn.utils.clip_grad_norm_(model.parameters(), 1.0)\n",
        "            optimizer.step()\n",
        "            train_loss += loss.item()\n",
        "\n",
        "        avg_train_loss = train_loss / len(train_loader)\n",
        "        history['train_loss'].append(avg_train_loss)\n",
        "\n",
        "        model.eval()\n",
        "        val_loss = 0\n",
        "        with torch.no_grad():\n",
        "            for batch in valid_loader:\n",
        "                encoder_input, decoder_input, decoder_output = [x.to(device) for x in batch]\n",
        "                output = model(encoder_input, decoder_input, 0) \n",
        "                loss = criterion(output.view(-1, output.shape[-1]), decoder_output.view(-1))\n",
        "                val_loss += loss.item()\n",
        "\n",
        "        avg_val_loss = val_loss / len(valid_loader)\n",
        "        history['val_loss'].append(avg_val_loss)\n",
        "\n",
        "        print(f\"Epoch {epoch+1}/{epochs} | Train Loss: {avg_train_loss:.4f} | Val Loss: {avg_val_loss:.4f}\")\n",
        "\n",
        "    return history\n"
      ]
    },
    {
      "cell_type": "markdown",
      "metadata": {},
      "source": [
        "##### Instanciado y entrenamiento"
      ]
    },
    {
      "cell_type": "code",
      "execution_count": 35,
      "metadata": {
        "colab": {
          "base_uri": "https://localhost:8080/"
        },
        "id": "FmcqObp--1KF",
        "outputId": "ef07a823-257f-4ac2-fdf9-fab37fb7a86b"
      },
      "outputs": [
        {
          "name": "stdout",
          "output_type": "stream",
          "text": [
            "Epoch 1/20 | Train Loss: 4.6134 | Val Loss: 4.2351\n",
            "Epoch 2/20 | Train Loss: 3.8091 | Val Loss: 4.3962\n",
            "Epoch 3/20 | Train Loss: 3.7003 | Val Loss: 4.3445\n",
            "Epoch 4/20 | Train Loss: 3.5673 | Val Loss: 4.1981\n",
            "Epoch 5/20 | Train Loss: 3.4872 | Val Loss: 4.1115\n",
            "Epoch 6/20 | Train Loss: 3.3772 | Val Loss: 4.1365\n",
            "Epoch 7/20 | Train Loss: 3.3694 | Val Loss: 4.0367\n",
            "Epoch 8/20 | Train Loss: 3.2859 | Val Loss: 4.0538\n",
            "Epoch 9/20 | Train Loss: 3.2358 | Val Loss: 4.0446\n",
            "Epoch 10/20 | Train Loss: 3.1748 | Val Loss: 4.0463\n",
            "Epoch 11/20 | Train Loss: 3.1287 | Val Loss: 4.0096\n",
            "Epoch 12/20 | Train Loss: 3.0628 | Val Loss: 4.0426\n",
            "Epoch 13/20 | Train Loss: 3.0905 | Val Loss: 4.0444\n",
            "Epoch 14/20 | Train Loss: 2.9998 | Val Loss: 4.0291\n",
            "Epoch 15/20 | Train Loss: 2.9853 | Val Loss: 4.0299\n",
            "Epoch 16/20 | Train Loss: 2.9338 | Val Loss: 4.0636\n",
            "Epoch 17/20 | Train Loss: 2.9146 | Val Loss: 4.0333\n",
            "Epoch 18/20 | Train Loss: 2.8867 | Val Loss: 4.0765\n",
            "Epoch 19/20 | Train Loss: 2.7963 | Val Loss: 4.0547\n",
            "Epoch 20/20 | Train Loss: 2.8253 | Val Loss: 4.0373\n"
          ]
        }
      ],
      "source": [
        "encoder = Encoder(vocab_size=vocab_size, embedding_matrix=embedding_matrix)\n",
        "decoder = Decoder(vocab_size=num_words_output)\n",
        "model = Seq2Seq(encoder, decoder)\n",
        "\n",
        "optimizer = torch.optim.Adam(model.parameters(), lr=0.001)\n",
        "criterion = nn.CrossEntropyLoss(ignore_index=0)\n",
        "\n",
        "history1 = train(\n",
        "    model=model,\n",
        "    train_loader=train_loader,\n",
        "    valid_loader=valid_loader,\n",
        "    optimizer=optimizer,\n",
        "    criterion=criterion,\n",
        "    epochs=20,\n",
        "    teacher_forcing_ratio=0.5\n",
        ")"
      ]
    },
    {
      "cell_type": "code",
      "execution_count": 36,
      "metadata": {
        "colab": {
          "base_uri": "https://localhost:8080/",
          "height": 472
        },
        "id": "MDFSEwgw9Hvo",
        "outputId": "3cf0be5b-0f48-48e4-de8b-b9de93631c53"
      },
      "outputs": [
        {
          "data": {
            "image/png": "[encoded data removed]",
            "text/plain": [
              "<Figure size 640x480 with 1 Axes>"
            ]
          },
          "metadata": {},
          "output_type": "display_data"
        }
      ],
      "source": [
        "import matplotlib.pyplot as plt\n",
        "import seaborn as sns\n",
        "\n",
        "epoch_count = range(1, len(history1['train_loss']) + 1)\n",
        "\n",
        "sns.lineplot(x=epoch_count, y=history1['train_loss'], label='Train Loss')\n",
        "sns.lineplot(x=epoch_count, y=history1['val_loss'], label='Validation Loss')\n",
        "\n",
        "plt.xlabel(\"Epoch\")\n",
        "plt.ylabel(\"Loss\")\n",
        "plt.title(\"Training and Validation Loss\")\n",
        "plt.legend()\n",
        "plt.grid(True)\n",
        "plt.show()\n"
      ]
    },
    {
      "cell_type": "markdown",
      "metadata": {
        "id": "Zbwn0ekDy_s2"
      },
      "source": [
        "### 5 - Inferencia\n",
        "Experimentar el funcionamiento de su modelo. Recuerde que debe realizar la inferencia de los modelos por separado de encoder y decoder."
      ]
    },
    {
      "cell_type": "code",
      "execution_count": null,
      "metadata": {
        "id": "7-d3Kbhi_Poe"
      },
      "outputs": [],
      "source": [
        "def generar_respuesta(input_text, input_tokenizer, output_tokenizer, model, max_len=18):\n",
        "    model.eval()\n",
        "    device = next(model.parameters()).device\n",
        "\n",
        "    # Tokenizar la entrada y convertir a tensor\n",
        "    seq = input_tokenizer.texts_to_sequences([input_text])\n",
        "    seq = torch.tensor(pad_sequences(seq, maxlen=max_input_len), dtype=torch.long).to(device)\n",
        "\n",
        "    # Codificar input\n",
        "    with torch.no_grad():\n",
        "        state = model.encoder(seq)\n",
        "\n",
        "    # Arrancamos con el token <sos>\n",
        "    sos_token = output_tokenizer.word_index['<sos>']\n",
        "    eos_token = output_tokenizer.word_index['<eos>']\n",
        "    input_token = torch.tensor([[sos_token]], dtype=torch.long).to(device)\n",
        "\n",
        "    output_tokens = []\n",
        "\n",
        "    for _ in range(max_len):\n",
        "        with torch.no_grad():\n",
        "            output, state = model.decoder(input_token, state)\n",
        "            top1 = output.argmax(1).item()\n",
        "\n",
        "        if top1 == eos_token:\n",
        "            break\n",
        "\n",
        "        output_tokens.append(top1)\n",
        "        input_token = torch.tensor([[top1]], dtype=torch.long).to(device)\n",
        "\n",
        "    # Convertir indices a palabras\n",
        "    idx2word = {i: w for w, i in output_tokenizer.word_index.items()}\n",
        "    respuesta = ' '.join([idx2word.get(idx, '<unk>') for idx in output_tokens])\n",
        "    return respuesta"
      ]
    },
    {
      "cell_type": "code",
      "execution_count": 29,
      "metadata": {
        "colab": {
          "base_uri": "https://localhost:8080/"
        },
        "id": "WYoY6CwU_XBf",
        "outputId": "6c999abf-240d-4231-edd0-78554e432149"
      },
      "outputs": [
        {
          "name": "stdout",
          "output_type": "stream",
          "text": [
            "Bot: i am fine\n"
          ]
        }
      ],
      "source": [
        "pregunta = \"How are you?\"\n",
        "respuesta = generar_respuesta(pregunta, input_tokenizer, output_tokenizer, model)\n",
        "print(\"Bot:\", respuesta)"
      ]
    },
    {
      "cell_type": "code",
      "execution_count": 33,
      "metadata": {
        "colab": {
          "base_uri": "https://localhost:8080/"
        },
        "id": "LOhh8TW__fL2",
        "outputId": "d9975288-3aa1-42f2-8552-a3aca6fb1d6b"
      },
      "outputs": [
        {
          "name": "stdout",
          "output_type": "stream",
          "text": [
            "Bot: i am\n"
          ]
        }
      ],
      "source": [
        "pregunta = \"Who are you?\"\n",
        "respuesta = generar_respuesta(pregunta, input_tokenizer, output_tokenizer, model)\n",
        "print(\"Bot:\", respuesta)"
      ]
    },
    {
      "cell_type": "code",
      "execution_count": 49,
      "metadata": {
        "colab": {
          "base_uri": "https://localhost:8080/"
        },
        "id": "jrKGdkQgBGDH",
        "outputId": "a86dbc73-ed8f-4b4d-bbc6-b88a0d7dda7d"
      },
      "outputs": [
        {
          "name": "stdout",
          "output_type": "stream",
          "text": [
            "Bot: hello how are\n"
          ]
        }
      ],
      "source": [
        "pregunta = \"hello\"\n",
        "respuesta = generar_respuesta(pregunta, input_tokenizer, output_tokenizer, model)\n",
        "print(\"Bot:\", respuesta)"
      ]
    },
    {
      "cell_type": "code",
      "execution_count": 50,
      "metadata": {
        "colab": {
          "base_uri": "https://localhost:8080/"
        },
        "id": "uwVzNzT6BKPQ",
        "outputId": "0f63a152-5478-4b88-f089-2cd9712f0e54"
      },
      "outputs": [
        {
          "name": "stdout",
          "output_type": "stream",
          "text": [
            "Bot: what do you do for a living\n"
          ]
        }
      ],
      "source": [
        "pregunta = \"My name is Lucas\"\n",
        "respuesta = generar_respuesta(pregunta, input_tokenizer, output_tokenizer, model)\n",
        "print(\"Bot:\", respuesta)"
      ]
    },
    {
      "cell_type": "code",
      "execution_count": 56,
      "metadata": {
        "colab": {
          "base_uri": "https://localhost:8080/"
        },
        "id": "IXrkxkBHBNzH",
        "outputId": "278b8ba9-9096-4a28-868b-7bd5e0fd4760"
      },
      "outputs": [
        {
          "name": "stdout",
          "output_type": "stream",
          "text": [
            "Bot: what do you\n"
          ]
        }
      ],
      "source": [
        "pregunta = \"Thank you\"\n",
        "respuesta = generar_respuesta(pregunta, input_tokenizer, output_tokenizer, model)\n",
        "print(\"Bot:\", respuesta)"
      ]
    }
  ],
  "metadata": {
    "accelerator": "GPU",
    "colab": {
      "provenance": []
    },
    "kernelspec": {
      "display_name": "Python 3.10.6 64-bit",
      "language": "python",
      "name": "python3"
    },
    "language_info": {
      "name": "python",
      "version": "3.10.6"
    },
    "vscode": {
      "interpreter": {
        "hash": "916dbcbb3f70747c44a77c7bcd40155683ae19c65e1c03b4aa3499c5328201f1"
      }
    }
  },
  "nbformat": 4,
  "nbformat_minor": 0
}
