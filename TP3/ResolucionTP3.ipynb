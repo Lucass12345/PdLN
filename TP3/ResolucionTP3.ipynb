{
  "cells": [
    {
      "cell_type": "code",
      "execution_count": 1,
      "id": "4c234be1",
      "metadata": {
        "colab": {
          "base_uri": "https://localhost:8080/"
        },
        "id": "4c234be1",
        "outputId": "facab667-c307-4304-887b-c8ea9f2471db"
      },
      "outputs": [
        {
          "output_type": "stream",
          "name": "stdout",
          "text": [
            "Archivo descargado como 'friends_script.txt'\n"
          ]
        }
      ],
      "source": [
        "import requests\n",
        "\n",
        "url = \"https://raw.githubusercontent.com/silentrob/superscript-friends/master/transcripts/friends.txt\"\n",
        "response = requests.get(url)\n",
        "\n",
        "with open(\"friends_script.txt\", \"w\", encoding=\"utf-8\") as f:\n",
        "    f.write(response.text)\n",
        "\n",
        "print(\"Archivo descargado como 'friends_script.txt'\")\n"
      ]
    },
    {
      "cell_type": "code",
      "execution_count": 2,
      "id": "06087d57",
      "metadata": {
        "colab": {
          "base_uri": "https://localhost:8080/"
        },
        "id": "06087d57",
        "outputId": "edffa7af-33ea-47ef-b238-f75d092526b4"
      },
      "outputs": [
        {
          "output_type": "stream",
          "name": "stdout",
          "text": [
            "Longitud recortada del corpus: 250000 caracteres\n",
            "Primeros 500 caracteres:\n",
            "Written by: Marta Kauffman & David Crane\n",
            "Monica: There's nothing to tell! He's just some guy I work with!\n",
            "Joey: C'mon, you're going out with the guy! There's gotta be something wrong with him!\n",
            "Chandler: All right Joey, be nice.  So does he have a hump? A hump and a hairpiece?\n",
            "Phoebe: Wait, does he eat chalk?\n",
            "Phoebe: Just, 'cause, I don't want her to go through what I went through with Carl- oh!\n",
            "Monica: Okay, everybody relax. This is not even a date. It's just two people going out to dinner and- \n"
          ]
        }
      ],
      "source": [
        "# Leer el corpus, obtenemos unicamente los primero 250mil caracateres porque sino explota la RAM\n",
        "\n",
        "with open(\"friends_script.txt\", \"r\", encoding=\"utf-8\") as f:\n",
        "    text = f.read()\n",
        "\n",
        "# Recortar a los primeros 250.000 caracteres\n",
        "text = text[:250_000]\n",
        "\n",
        "print(f\"Longitud recortada del corpus: {len(text)} caracteres\")\n",
        "print(f\"Primeros 500 caracteres:\\n{text[:500]}\")\n"
      ]
    },
    {
      "cell_type": "code",
      "execution_count": 3,
      "id": "af3ee21f",
      "metadata": {
        "id": "af3ee21f"
      },
      "outputs": [],
      "source": [
        "import re\n",
        "import unicodedata\n",
        "\n",
        "def clean_raw_text(txt):\n",
        "    txt = re.sub(r\" +\", \" \", txt)\n",
        "    txt = re.sub(r\"\\[.*?\\]\", \"\", txt)\n",
        "    txt = re.sub(r\"\\(.*?\\)\", \"\", txt)\n",
        "    txt = \"\\n\".join([line for line in txt.splitlines() if line.strip() != \"\"])\n",
        "    txt = re.sub(r\"^(\\w+):\", lambda m: m.group(1).lower() + \":\", txt, flags=re.M)\n",
        "    return txt\n",
        "\n",
        "def normalize_text(txt):\n",
        "    txt = txt.lower()\n",
        "    txt = unicodedata.normalize(\"NFD\", txt)\n",
        "    txt = txt.encode(\"ascii\", \"ignore\").decode(\"utf-8\")\n",
        "    txt = re.sub(r\"[^a-z0-9.,!?'\\\\n:;()\\\" \\\\-]+\", '', txt)\n",
        "    return txt"
      ]
    },
    {
      "cell_type": "code",
      "execution_count": 4,
      "id": "0c1daf9c",
      "metadata": {
        "id": "0c1daf9c"
      },
      "outputs": [],
      "source": [
        "text = clean_raw_text(text)\n",
        "text = normalize_text(text)"
      ]
    },
    {
      "cell_type": "code",
      "execution_count": 5,
      "id": "94837491",
      "metadata": {
        "colab": {
          "base_uri": "https://localhost:8080/"
        },
        "id": "94837491",
        "outputId": "bd900e3e-21d1-4d18-e359-57f56fac72c7"
      },
      "outputs": [
        {
          "output_type": "stream",
          "name": "stdout",
          "text": [
            "Vocabulario: 48 caracteres\n"
          ]
        }
      ],
      "source": [
        "# Crear vocabulario y mappings\n",
        "chars = sorted(set(text))\n",
        "vocab_size = len(chars)\n",
        "print(f\"Vocabulario: {vocab_size} caracteres\")\n",
        "\n",
        "# Mapeo de caracteres a índices y viceversa\n",
        "char_to_idx = {ch: i for i, ch in enumerate(chars)}\n",
        "idx_to_char = {i: ch for i, ch in enumerate(chars)}\n",
        "\n",
        "# Vectorizar todo el texto\n",
        "encoded_text = [char_to_idx[c] for c in text]"
      ]
    },
    {
      "cell_type": "code",
      "execution_count": 6,
      "id": "67383f50",
      "metadata": {
        "colab": {
          "base_uri": "https://localhost:8080/"
        },
        "id": "67383f50",
        "outputId": "198b0f3f-b133-4981-dace-c30498fc43a5"
      },
      "outputs": [
        {
          "output_type": "stream",
          "name": "stdout",
          "text": [
            "Train: (220008, 100), (220008, 100)\n",
            "Val: (244, 100), (244, 100)\n"
          ]
        }
      ],
      "source": [
        "import numpy as np\n",
        "# Longitud de contexto (many-to-many)\n",
        "max_context_size = 100  # secuencias de entrada y salida de esta longitud\n",
        "\n",
        "# Separar el texto tokenizado en entrenamiento y validación\n",
        "p_val = 0.1\n",
        "num_val = int(np.ceil(len(encoded_text) * p_val / max_context_size))\n",
        "\n",
        "train_text = encoded_text[:-num_val * max_context_size]\n",
        "val_text = encoded_text[-num_val * max_context_size:]\n",
        "\n",
        "# Generar secuencias de entrenamiento y validación\n",
        "\n",
        "tokenized_sentences_train = [train_text[i:i + max_context_size] for i in range(len(train_text) - max_context_size + 1)]\n",
        "tokenized_sentences_val = [val_text[i:i + max_context_size] for i in range(num_val)]\n",
        "\n",
        "# Dataset de entrenamiento (many-to-many): shift de una posición\n",
        "X_train = np.array(tokenized_sentences_train[:-1])\n",
        "y_train = np.array(tokenized_sentences_train[1:])\n",
        "\n",
        "# Dataset de validación\n",
        "X_val = np.array(tokenized_sentences_val[:-1])\n",
        "y_val = np.array(tokenized_sentences_val[1:])\n",
        "\n",
        "print(f\"Train: {X_train.shape}, {y_train.shape}\")\n",
        "print(f\"Val: {X_val.shape}, {y_val.shape}\")"
      ]
    },
    {
      "cell_type": "code",
      "execution_count": 7,
      "id": "1X3jhVNBQcsw",
      "metadata": {
        "id": "1X3jhVNBQcsw"
      },
      "outputs": [],
      "source": [
        "X_train = X_train.reshape((X_train.shape[0], X_train.shape[1], 1))\n",
        "X_val = X_val.reshape((X_val.shape[0], X_val.shape[1], 1))"
      ]
    },
    {
      "cell_type": "code",
      "execution_count": 8,
      "id": "f09cb847",
      "metadata": {
        "id": "f09cb847"
      },
      "outputs": [],
      "source": [
        "from keras.callbacks import Callback\n",
        "from tensorflow.keras.preprocessing.sequence import pad_sequences\n",
        "import numpy as np\n",
        "\n",
        "class PplCallback(Callback):\n",
        "    def __init__(self, val_data, history_ppl, patience=5):\n",
        "        self.val_data = val_data\n",
        "        self.target = []\n",
        "        self.padded = []\n",
        "        self.info = []\n",
        "        self.min_score = np.inf\n",
        "        self.patience = patience\n",
        "        self.patience_counter = 0\n",
        "        self.history_ppl = history_ppl\n",
        "        count = 0\n",
        "\n",
        "        for seq in self.val_data:\n",
        "            len_seq = len(seq)\n",
        "            subseq = [seq[:i] for i in range(1, len_seq)]\n",
        "            self.target.extend([seq[i] for i in range(1, len_seq)])\n",
        "            if len(subseq) > 0:\n",
        "                padded_seqs = pad_sequences(subseq, maxlen=max_context_size, padding='pre')\n",
        "                self.padded.append(padded_seqs)\n",
        "                self.info.append((count, count + len_seq - 1))\n",
        "                count += len_seq - 1\n",
        "\n",
        "        self.padded = np.vstack(self.padded)\n",
        "\n",
        "    def on_epoch_end(self, epoch, logs=None):\n",
        "        scores = []\n",
        "        predictions = self.model.predict(self.padded, verbose=0)\n",
        "\n",
        "        for start, end in self.info:\n",
        "            local_probs = []\n",
        "            for i in range(start, end):\n",
        "                if i >= len(predictions):\n",
        "                    break\n",
        "                if self.target[i] >= predictions.shape[2]:\n",
        "                    continue\n",
        "                prob = predictions[i, -1, self.target[i]]\n",
        "                prob = max(prob, 1e-8)  )\n",
        "                local_probs.append(prob)\n",
        "\n",
        "            if local_probs:\n",
        "                scores.append(np.exp(-np.sum(np.log(local_probs)) / len(local_probs)))\n",
        "\n",
        "        if scores:\n",
        "            current_score = np.mean(scores)\n",
        "            self.history_ppl.append(current_score)\n",
        "            print(f'\\n Perplejidad media: {current_score:.4f}')\n",
        "\n",
        "            if current_score < self.min_score:\n",
        "                self.min_score = current_score\n",
        "                self.model.save(\"my_model.keras\")\n",
        "                print(\"Nuevo modelo guardado.\")\n",
        "                self.patience_counter = 0\n",
        "            else:\n",
        "                self.patience_counter += 1\n",
        "                if self.patience_counter >= self.patience:\n",
        "                    print(\"Early stopping activado.\")\n",
        "                    self.model.stop_training = True\n"
      ]
    },
    {
      "cell_type": "markdown",
      "id": "963dfcb4",
      "metadata": {
        "id": "963dfcb4"
      },
      "source": [
        "### SimpleRNN"
      ]
    },
    {
      "cell_type": "code",
      "execution_count": null,
      "id": "29b60963",
      "metadata": {
        "colab": {
          "base_uri": "https://localhost:8080/",
          "height": 314
        },
        "id": "29b60963",
        "outputId": "27571226-528e-4170-99c1-d6ffa1e665ba"
      },
      "outputs": [
        {
          "name": "stderr",
          "output_type": "stream",
          "text": [
            "/usr/local/lib/python3.11/dist-packages/keras/src/layers/core/wrapper.py:27: UserWarning: Do not pass an `input_shape`/`input_dim` argument to a layer. When using Sequential models, prefer using an `Input(shape)` object as the first layer in the model instead.\n",
            "  super().__init__(**kwargs)\n"
          ]
        },
        {
          "data": {
            "text/html": [
              "<pre style=\"white-space:pre;overflow-x:auto;line-height:normal;font-family:Menlo,'DejaVu Sans Mono',consolas,'Courier New',monospace\"><span style=\"font-weight: bold\">Model: \"sequential\"</span>\n",
              "</pre>\n"
            ],
            "text/plain": [
              "\u001b[1mModel: \"sequential\"\u001b[0m\n"
            ]
          },
          "metadata": {},
          "output_type": "display_data"
        },
        {
          "data": {
            "text/html": [
              "<pre style=\"white-space:pre;overflow-x:auto;line-height:normal;font-family:Menlo,'DejaVu Sans Mono',consolas,'Courier New',monospace\">┏━━━━━━━━━━━━━━━━━━━━━━━━━━━━━━━━━┳━━━━━━━━━━━━━━━━━━━━━━━━┳━━━━━━━━━━━━━━━┓\n",
              "┃<span style=\"font-weight: bold\"> Layer (type)                    </span>┃<span style=\"font-weight: bold\"> Output Shape           </span>┃<span style=\"font-weight: bold\">       Param # </span>┃\n",
              "┡━━━━━━━━━━━━━━━━━━━━━━━━━━━━━━━━━╇━━━━━━━━━━━━━━━━━━━━━━━━╇━━━━━━━━━━━━━━━┩\n",
              "│ time_distributed                │ (<span style=\"color: #00d7ff; text-decoration-color: #00d7ff\">None</span>, <span style=\"color: #00d7ff; text-decoration-color: #00d7ff\">None</span>, <span style=\"color: #00af00; text-decoration-color: #00af00\">48</span>)       │             <span style=\"color: #00af00; text-decoration-color: #00af00\">0</span> │\n",
              "│ (<span style=\"color: #0087ff; text-decoration-color: #0087ff\">TimeDistributed</span>)               │                        │               │\n",
              "├─────────────────────────────────┼────────────────────────┼───────────────┤\n",
              "│ simple_rnn (<span style=\"color: #0087ff; text-decoration-color: #0087ff\">SimpleRNN</span>)          │ (<span style=\"color: #00d7ff; text-decoration-color: #00d7ff\">None</span>, <span style=\"color: #00d7ff; text-decoration-color: #00d7ff\">None</span>, <span style=\"color: #00af00; text-decoration-color: #00af00\">200</span>)      │        <span style=\"color: #00af00; text-decoration-color: #00af00\">49,800</span> │\n",
              "├─────────────────────────────────┼────────────────────────┼───────────────┤\n",
              "│ dense (<span style=\"color: #0087ff; text-decoration-color: #0087ff\">Dense</span>)                   │ (<span style=\"color: #00d7ff; text-decoration-color: #00d7ff\">None</span>, <span style=\"color: #00d7ff; text-decoration-color: #00d7ff\">None</span>, <span style=\"color: #00af00; text-decoration-color: #00af00\">48</span>)       │         <span style=\"color: #00af00; text-decoration-color: #00af00\">9,648</span> │\n",
              "└─────────────────────────────────┴────────────────────────┴───────────────┘\n",
              "</pre>\n"
            ],
            "text/plain": [
              "┏━━━━━━━━━━━━━━━━━━━━━━━━━━━━━━━━━┳━━━━━━━━━━━━━━━━━━━━━━━━┳━━━━━━━━━━━━━━━┓\n",
              "┃\u001b[1m \u001b[0m\u001b[1mLayer (type)                   \u001b[0m\u001b[1m \u001b[0m┃\u001b[1m \u001b[0m\u001b[1mOutput Shape          \u001b[0m\u001b[1m \u001b[0m┃\u001b[1m \u001b[0m\u001b[1m      Param #\u001b[0m\u001b[1m \u001b[0m┃\n",
              "┡━━━━━━━━━━━━━━━━━━━━━━━━━━━━━━━━━╇━━━━━━━━━━━━━━━━━━━━━━━━╇━━━━━━━━━━━━━━━┩\n",
              "│ time_distributed                │ (\u001b[38;5;45mNone\u001b[0m, \u001b[38;5;45mNone\u001b[0m, \u001b[38;5;34m48\u001b[0m)       │             \u001b[38;5;34m0\u001b[0m │\n",
              "│ (\u001b[38;5;33mTimeDistributed\u001b[0m)               │                        │               │\n",
              "├─────────────────────────────────┼────────────────────────┼───────────────┤\n",
              "│ simple_rnn (\u001b[38;5;33mSimpleRNN\u001b[0m)          │ (\u001b[38;5;45mNone\u001b[0m, \u001b[38;5;45mNone\u001b[0m, \u001b[38;5;34m200\u001b[0m)      │        \u001b[38;5;34m49,800\u001b[0m │\n",
              "├─────────────────────────────────┼────────────────────────┼───────────────┤\n",
              "│ dense (\u001b[38;5;33mDense\u001b[0m)                   │ (\u001b[38;5;45mNone\u001b[0m, \u001b[38;5;45mNone\u001b[0m, \u001b[38;5;34m48\u001b[0m)       │         \u001b[38;5;34m9,648\u001b[0m │\n",
              "└─────────────────────────────────┴────────────────────────┴───────────────┘\n"
            ]
          },
          "metadata": {},
          "output_type": "display_data"
        },
        {
          "data": {
            "text/html": [
              "<pre style=\"white-space:pre;overflow-x:auto;line-height:normal;font-family:Menlo,'DejaVu Sans Mono',consolas,'Courier New',monospace\"><span style=\"font-weight: bold\"> Total params: </span><span style=\"color: #00af00; text-decoration-color: #00af00\">59,448</span> (232.22 KB)\n",
              "</pre>\n"
            ],
            "text/plain": [
              "\u001b[1m Total params: \u001b[0m\u001b[38;5;34m59,448\u001b[0m (232.22 KB)\n"
            ]
          },
          "metadata": {},
          "output_type": "display_data"
        },
        {
          "data": {
            "text/html": [
              "<pre style=\"white-space:pre;overflow-x:auto;line-height:normal;font-family:Menlo,'DejaVu Sans Mono',consolas,'Courier New',monospace\"><span style=\"font-weight: bold\"> Trainable params: </span><span style=\"color: #00af00; text-decoration-color: #00af00\">59,448</span> (232.22 KB)\n",
              "</pre>\n"
            ],
            "text/plain": [
              "\u001b[1m Trainable params: \u001b[0m\u001b[38;5;34m59,448\u001b[0m (232.22 KB)\n"
            ]
          },
          "metadata": {},
          "output_type": "display_data"
        },
        {
          "data": {
            "text/html": [
              "<pre style=\"white-space:pre;overflow-x:auto;line-height:normal;font-family:Menlo,'DejaVu Sans Mono',consolas,'Courier New',monospace\"><span style=\"font-weight: bold\"> Non-trainable params: </span><span style=\"color: #00af00; text-decoration-color: #00af00\">0</span> (0.00 B)\n",
              "</pre>\n"
            ],
            "text/plain": [
              "\u001b[1m Non-trainable params: \u001b[0m\u001b[38;5;34m0\u001b[0m (0.00 B)\n"
            ]
          },
          "metadata": {},
          "output_type": "display_data"
        }
      ],
      "source": [
        "from keras.models import Sequential\n",
        "from keras.layers import TimeDistributed, CategoryEncoding, SimpleRNN, Dense\n",
        "\n",
        "model = Sequential()\n",
        "model.add(TimeDistributed(\n",
        "    CategoryEncoding(num_tokens=vocab_size, output_mode=\"one_hot\"),\n",
        "    input_shape=(None, 1))\n",
        ")\n",
        "model.add(SimpleRNN(200, return_sequences=True, dropout=0.1, recurrent_dropout=0.1))\n",
        "model.add(Dense(vocab_size, activation='softmax'))\n",
        "\n",
        "model.compile(loss='sparse_categorical_crossentropy', optimizer='rmsprop')\n",
        "model.summary()\n"
      ]
    },
    {
      "cell_type": "code",
      "execution_count": null,
      "id": "ik3VGOQB-eJv",
      "metadata": {
        "colab": {
          "base_uri": "https://localhost:8080/"
        },
        "id": "ik3VGOQB-eJv",
        "outputId": "c7641bd2-afb8-4bb8-ea01-09219307109d"
      },
      "outputs": [
        {
          "name": "stdout",
          "output_type": "stream",
          "text": [
            "GPU disponible: [PhysicalDevice(name='/physical_device:GPU:0', device_type='GPU')]\n"
          ]
        }
      ],
      "source": [
        "import tensorflow as tf\n",
        "print(\"GPU disponible:\", tf.config.list_physical_devices('GPU'))"
      ]
    },
    {
      "cell_type": "code",
      "execution_count": null,
      "id": "d5c6127b",
      "metadata": {
        "colab": {
          "base_uri": "https://localhost:8080/"
        },
        "id": "d5c6127b",
        "outputId": "3b1f89dc-d404-45cb-a05b-8a9e779f26c2"
      },
      "outputs": [
        {
          "name": "stdout",
          "output_type": "stream",
          "text": [
            "Epoch 1/20\n",
            "\u001b[1m3435/3438\u001b[0m \u001b[32m━━━━━━━━━━━━━━━━━━━\u001b[0m\u001b[37m━\u001b[0m \u001b[1m0s\u001b[0m 10ms/step - loss: 1.5701\n",
            " Perplejidad media: 5.4521\n",
            "Nuevo modelo guardado.\n",
            "\u001b[1m3438/3438\u001b[0m \u001b[32m━━━━━━━━━━━━━━━━━━━━\u001b[0m\u001b[37m\u001b[0m \u001b[1m39s\u001b[0m 11ms/step - loss: 1.5701\n",
            "Epoch 2/20\n",
            "\u001b[1m3437/3438\u001b[0m \u001b[32m━━━━━━━━━━━━━━━━━━━\u001b[0m\u001b[37m━\u001b[0m \u001b[1m0s\u001b[0m 10ms/step - loss: 1.5545\n",
            " Perplejidad media: 5.1467\n",
            "Nuevo modelo guardado.\n",
            "\u001b[1m3438/3438\u001b[0m \u001b[32m━━━━━━━━━━━━━━━━━━━━\u001b[0m\u001b[37m\u001b[0m \u001b[1m40s\u001b[0m 12ms/step - loss: 1.5545\n",
            "Epoch 3/20\n",
            "\u001b[1m3437/3438\u001b[0m \u001b[32m━━━━━━━━━━━━━━━━━━━\u001b[0m\u001b[37m━\u001b[0m \u001b[1m0s\u001b[0m 10ms/step - loss: 1.5418\n",
            " Perplejidad media: 5.2056\n",
            "\u001b[1m3438/3438\u001b[0m \u001b[32m━━━━━━━━━━━━━━━━━━━━\u001b[0m\u001b[37m\u001b[0m \u001b[1m41s\u001b[0m 12ms/step - loss: 1.5418\n",
            "Epoch 4/20\n",
            "\u001b[1m3436/3438\u001b[0m \u001b[32m━━━━━━━━━━━━━━━━━━━\u001b[0m\u001b[37m━\u001b[0m \u001b[1m0s\u001b[0m 10ms/step - loss: 1.5340\n",
            " Perplejidad media: 5.1213\n",
            "Nuevo modelo guardado.\n",
            "\u001b[1m3438/3438\u001b[0m \u001b[32m━━━━━━━━━━━━━━━━━━━━\u001b[0m\u001b[37m\u001b[0m \u001b[1m41s\u001b[0m 12ms/step - loss: 1.5340\n",
            "Epoch 5/20\n",
            "\u001b[1m3435/3438\u001b[0m \u001b[32m━━━━━━━━━━━━━━━━━━━\u001b[0m\u001b[37m━\u001b[0m \u001b[1m0s\u001b[0m 10ms/step - loss: 1.5284\n",
            " Perplejidad media: 5.2846\n",
            "\u001b[1m3438/3438\u001b[0m \u001b[32m━━━━━━━━━━━━━━━━━━━━\u001b[0m\u001b[37m\u001b[0m \u001b[1m38s\u001b[0m 11ms/step - loss: 1.5284\n",
            "Epoch 6/20\n",
            "\u001b[1m3438/3438\u001b[0m \u001b[32m━━━━━━━━━━━━━━━━━━━━\u001b[0m\u001b[37m\u001b[0m \u001b[1m0s\u001b[0m 10ms/step - loss: 1.5237\n",
            " Perplejidad media: 5.1787\n",
            "\u001b[1m3438/3438\u001b[0m \u001b[32m━━━━━━━━━━━━━━━━━━━━\u001b[0m\u001b[37m\u001b[0m \u001b[1m43s\u001b[0m 12ms/step - loss: 1.5237\n",
            "Epoch 7/20\n",
            "\u001b[1m3436/3438\u001b[0m \u001b[32m━━━━━━━━━━━━━━━━━━━\u001b[0m\u001b[37m━\u001b[0m \u001b[1m0s\u001b[0m 10ms/step - loss: 1.5195\n",
            " Perplejidad media: 5.0868\n",
            "Nuevo modelo guardado.\n",
            "\u001b[1m3438/3438\u001b[0m \u001b[32m━━━━━━━━━━━━━━━━━━━━\u001b[0m\u001b[37m\u001b[0m \u001b[1m41s\u001b[0m 12ms/step - loss: 1.5195\n",
            "Epoch 8/20\n",
            "\u001b[1m3437/3438\u001b[0m \u001b[32m━━━━━━━━━━━━━━━━━━━\u001b[0m\u001b[37m━\u001b[0m \u001b[1m0s\u001b[0m 10ms/step - loss: 1.5160\n",
            " Perplejidad media: 5.2005\n",
            "\u001b[1m3438/3438\u001b[0m \u001b[32m━━━━━━━━━━━━━━━━━━━━\u001b[0m\u001b[37m\u001b[0m \u001b[1m40s\u001b[0m 12ms/step - loss: 1.5160\n",
            "Epoch 9/20\n",
            "\u001b[1m3438/3438\u001b[0m \u001b[32m━━━━━━━━━━━━━━━━━━━━\u001b[0m\u001b[37m\u001b[0m \u001b[1m0s\u001b[0m 10ms/step - loss: 1.5123\n",
            " Perplejidad media: 4.9750\n",
            "Nuevo modelo guardado.\n",
            "\u001b[1m3438/3438\u001b[0m \u001b[32m━━━━━━━━━━━━━━━━━━━━\u001b[0m\u001b[37m\u001b[0m \u001b[1m39s\u001b[0m 11ms/step - loss: 1.5123\n",
            "Epoch 10/20\n",
            "\u001b[1m3435/3438\u001b[0m \u001b[32m━━━━━━━━━━━━━━━━━━━\u001b[0m\u001b[37m━\u001b[0m \u001b[1m0s\u001b[0m 10ms/step - loss: 1.5103\n",
            " Perplejidad media: 5.1652\n",
            "\u001b[1m3438/3438\u001b[0m \u001b[32m━━━━━━━━━━━━━━━━━━━━\u001b[0m\u001b[37m\u001b[0m \u001b[1m43s\u001b[0m 12ms/step - loss: 1.5103\n",
            "Epoch 11/20\n",
            "\u001b[1m3438/3438\u001b[0m \u001b[32m━━━━━━━━━━━━━━━━━━━━\u001b[0m\u001b[37m\u001b[0m \u001b[1m0s\u001b[0m 10ms/step - loss: 1.5075\n",
            " Perplejidad media: 5.1931\n",
            "\u001b[1m3438/3438\u001b[0m \u001b[32m━━━━━━━━━━━━━━━━━━━━\u001b[0m\u001b[37m\u001b[0m \u001b[1m40s\u001b[0m 11ms/step - loss: 1.5075\n",
            "Epoch 12/20\n",
            "\u001b[1m3435/3438\u001b[0m \u001b[32m━━━━━━━━━━━━━━━━━━━\u001b[0m\u001b[37m━\u001b[0m \u001b[1m0s\u001b[0m 10ms/step - loss: 1.5049\n",
            " Perplejidad media: 5.3212\n",
            "\u001b[1m3438/3438\u001b[0m \u001b[32m━━━━━━━━━━━━━━━━━━━━\u001b[0m\u001b[37m\u001b[0m \u001b[1m40s\u001b[0m 12ms/step - loss: 1.5049\n",
            "Epoch 13/20\n",
            "\u001b[1m3438/3438\u001b[0m \u001b[32m━━━━━━━━━━━━━━━━━━━━\u001b[0m\u001b[37m\u001b[0m \u001b[1m0s\u001b[0m 10ms/step - loss: 1.5025\n",
            " Perplejidad media: 5.1652\n",
            "\u001b[1m3438/3438\u001b[0m \u001b[32m━━━━━━━━━━━━━━━━━━━━\u001b[0m\u001b[37m\u001b[0m \u001b[1m40s\u001b[0m 12ms/step - loss: 1.5025\n",
            "Epoch 14/20\n",
            "\u001b[1m3435/3438\u001b[0m \u001b[32m━━━━━━━━━━━━━━━━━━━\u001b[0m\u001b[37m━\u001b[0m \u001b[1m0s\u001b[0m 10ms/step - loss: 1.5020\n",
            " Perplejidad media: 5.2445\n",
            "Early stopping activado.\n",
            "\u001b[1m3438/3438\u001b[0m \u001b[32m━━━━━━━━━━━━━━━━━━━━\u001b[0m\u001b[37m\u001b[0m \u001b[1m40s\u001b[0m 12ms/step - loss: 1.5020\n"
          ]
        }
      ],
      "source": [
        "history_ppl = []\n",
        "\n",
        "hist = model.fit(\n",
        "    X_train[..., np.newaxis],\n",
        "    y_train[..., np.newaxis],\n",
        "    epochs=20,\n",
        "    batch_size=254,\n",
        "    callbacks=[PplCallback(tokenized_sentences_val, history_ppl)],\n",
        "    verbose=1,\n",
        "    shuffle=True\n",
        ")\n"
      ]
    },
    {
      "cell_type": "code",
      "execution_count": null,
      "id": "aaOcB0KmC2Rv",
      "metadata": {
        "colab": {
          "base_uri": "https://localhost:8080/",
          "height": 17
        },
        "id": "aaOcB0KmC2Rv",
        "outputId": "cae0dfba-a77c-4381-8407-e09231b3787c"
      },
      "outputs": [
        {
          "data": {
            "application/javascript": [
              "\n",
              "    async function download(id, filename, size) {\n",
              "      if (!google.colab.kernel.accessAllowed) {\n",
              "        return;\n",
              "      }\n",
              "      const div = document.createElement('div');\n",
              "      const label = document.createElement('label');\n",
              "      label.textContent = `Downloading \"${filename}\": `;\n",
              "      div.appendChild(label);\n",
              "      const progress = document.createElement('progress');\n",
              "      progress.max = size;\n",
              "      div.appendChild(progress);\n",
              "      document.body.appendChild(div);\n",
              "\n",
              "      const buffers = [];\n",
              "      let downloaded = 0;\n",
              "\n",
              "      const channel = await google.colab.kernel.comms.open(id);\n",
              "      // Send a message to notify the kernel that we're ready.\n",
              "      channel.send({})\n",
              "\n",
              "      for await (const message of channel.messages) {\n",
              "        // Send a message to notify the kernel that we're ready.\n",
              "        channel.send({})\n",
              "        if (message.buffers) {\n",
              "          for (const buffer of message.buffers) {\n",
              "            buffers.push(buffer);\n",
              "            downloaded += buffer.byteLength;\n",
              "            progress.value = downloaded;\n",
              "          }\n",
              "        }\n",
              "      }\n",
              "      const blob = new Blob(buffers, {type: 'application/binary'});\n",
              "      const a = document.createElement('a');\n",
              "      a.href = window.URL.createObjectURL(blob);\n",
              "      a.download = filename;\n",
              "      div.appendChild(a);\n",
              "      a.click();\n",
              "      div.remove();\n",
              "    }\n",
              "  "
            ],
            "text/plain": [
              "<IPython.core.display.Javascript object>"
            ]
          },
          "metadata": {},
          "output_type": "display_data"
        },
        {
          "data": {
            "application/javascript": [
              "download(\"download_31fb98a0-65b4-47a5-810b-0b0478cfa185\", \"perplejidad_history.json\", 266)"
            ],
            "text/plain": [
              "<IPython.core.display.Javascript object>"
            ]
          },
          "metadata": {},
          "output_type": "display_data"
        }
      ],
      "source": [
        "import json\n",
        "\n",
        "history_ppl_float = [float(x) for x in history_ppl]\n",
        "\n",
        "with open(\"perplejidad_history.json\", \"w\") as f:\n",
        "    json.dump(history_ppl_float, f)\n",
        "\n",
        "from google.colab import files\n",
        "files.download(\"perplejidad_history.json\")\n"
      ]
    },
    {
      "cell_type": "code",
      "execution_count": null,
      "id": "fc8933a2",
      "metadata": {
        "colab": {
          "base_uri": "https://localhost:8080/",
          "height": 490
        },
        "id": "fc8933a2",
        "outputId": "3bab5a5b-262d-4a70-d9f9-df8014bdd0d5"
      },
      "outputs": [
        {
          "data": {
            "image/png": "[encoded data removed]",
            "text/plain": [
              "<Figure size 1000x500 with 1 Axes>"
            ]
          },
          "metadata": {},
          "output_type": "display_data"
        }
      ],
      "source": [
        "import matplotlib.pyplot as plt\n",
        "import seaborn as sns\n",
        "\n",
        "plt.figure(figsize=(10, 5))\n",
        "sns.lineplot(x=range(1, len(history_ppl)+1), y=history_ppl)\n",
        "plt.xlabel(\"Épocas\")\n",
        "plt.ylabel(\"Perplejidad\")\n",
        "plt.title(\"Evolución de perplejidad\")\n",
        "plt.show()"
      ]
    },
    {
      "cell_type": "markdown",
      "id": "1swrI_bbEnEv",
      "metadata": {
        "id": "1swrI_bbEnEv"
      },
      "source": [
        "### LSTM y GRU"
      ]
    },
    {
      "cell_type": "code",
      "execution_count": 9,
      "id": "h58NpG3QEmbZ",
      "metadata": {
        "id": "h58NpG3QEmbZ"
      },
      "outputs": [],
      "source": [
        "# Hiperparametros\n",
        "embedding_dim = 64\n",
        "hidden_units = 200\n",
        "dropout = 0.1\n",
        "batch_size = 64\n",
        "epochs = 20"
      ]
    },
    {
      "cell_type": "code",
      "execution_count": 10,
      "id": "I0xBerZAFMC7",
      "metadata": {
        "colab": {
          "base_uri": "https://localhost:8080/"
        },
        "id": "I0xBerZAFMC7",
        "outputId": "62f88bae-2809-441a-ee5e-893a4e0b991b"
      },
      "outputs": [
        {
          "output_type": "stream",
          "name": "stdout",
          "text": [
            "X_train shape: (220009, 30)\n",
            "y_train shape: (220009, 30)\n",
            "X_val shape: (245, 30)\n",
            "y_val shape: (245, 30)\n"
          ]
        }
      ],
      "source": [
        "from tensorflow.keras.preprocessing.sequence import pad_sequences\n",
        "import numpy as np\n",
        "\n",
        "# Longitud de contexto fija\n",
        "max_context_size = 30\n",
        "\n",
        "# =====================\n",
        "# ENTRENAMIENTO\n",
        "# =====================\n",
        "\n",
        "X_train = []\n",
        "y_train = []\n",
        "\n",
        "for seq in tokenized_sentences_train:\n",
        "    if len(seq) < 2:\n",
        "        continue\n",
        "    X_train.append(seq[:-1])\n",
        "    y_train.append(seq[1:])\n",
        "\n",
        "X_train = pad_sequences(X_train, maxlen=max_context_size, padding='pre')\n",
        "y_train = pad_sequences(y_train, maxlen=max_context_size, padding='pre')\n",
        "\n",
        "X_train = np.array(X_train)\n",
        "y_train = np.array(y_train)\n",
        "\n",
        "print(\"X_train shape:\", X_train.shape)\n",
        "print(\"y_train shape:\", y_train.shape)\n",
        "\n",
        "# =====================\n",
        "# VALIDACION\n",
        "# =====================\n",
        "\n",
        "X_val = []\n",
        "y_val = []\n",
        "\n",
        "for seq in tokenized_sentences_val:\n",
        "    if len(seq) < 2:\n",
        "        continue\n",
        "    X_val.append(seq[:-1])\n",
        "    y_val.append(seq[1:])\n",
        "\n",
        "X_val = pad_sequences(X_val, maxlen=max_context_size, padding='pre')\n",
        "y_val = pad_sequences(y_val, maxlen=max_context_size, padding='pre')\n",
        "\n",
        "X_val = np.array(X_val)\n",
        "y_val = np.array(y_val)\n",
        "\n",
        "print(\"X_val shape:\", X_val.shape)\n",
        "print(\"y_val shape:\", y_val.shape)\n"
      ]
    },
    {
      "cell_type": "markdown",
      "id": "CXSRNBziEQ7y",
      "metadata": {
        "id": "CXSRNBziEQ7y"
      },
      "source": [
        "#### LSTM"
      ]
    },
    {
      "cell_type": "code",
      "execution_count": 11,
      "id": "66qXkfo_EMGV",
      "metadata": {
        "colab": {
          "base_uri": "https://localhost:8080/",
          "height": 277
        },
        "id": "66qXkfo_EMGV",
        "outputId": "598a0bb1-b381-476a-b399-c78717b468a3"
      },
      "outputs": [
        {
          "output_type": "stream",
          "name": "stderr",
          "text": [
            "/usr/local/lib/python3.11/dist-packages/keras/src/layers/core/embedding.py:90: UserWarning: Argument `input_length` is deprecated. Just remove it.\n",
            "  warnings.warn(\n"
          ]
        },
        {
          "output_type": "display_data",
          "data": {
            "text/plain": [
              "\u001b[1mModel: \"sequential\"\u001b[0m\n"
            ],
            "text/html": [
              "<pre style=\"white-space:pre;overflow-x:auto;line-height:normal;font-family:Menlo,'DejaVu Sans Mono',consolas,'Courier New',monospace\"><span style=\"font-weight: bold\">Model: \"sequential\"</span>\n",
              "</pre>\n"
            ]
          },
          "metadata": {}
        },
        {
          "output_type": "display_data",
          "data": {
            "text/plain": [
              "┏━━━━━━━━━━━━━━━━━━━━━━━━━━━━━━━━━┳━━━━━━━━━━━━━━━━━━━━━━━━┳━━━━━━━━━━━━━━━┓\n",
              "┃\u001b[1m \u001b[0m\u001b[1mLayer (type)                   \u001b[0m\u001b[1m \u001b[0m┃\u001b[1m \u001b[0m\u001b[1mOutput Shape          \u001b[0m\u001b[1m \u001b[0m┃\u001b[1m \u001b[0m\u001b[1m      Param #\u001b[0m\u001b[1m \u001b[0m┃\n",
              "┡━━━━━━━━━━━━━━━━━━━━━━━━━━━━━━━━━╇━━━━━━━━━━━━━━━━━━━━━━━━╇━━━━━━━━━━━━━━━┩\n",
              "│ embedding (\u001b[38;5;33mEmbedding\u001b[0m)           │ ?                      │   \u001b[38;5;34m0\u001b[0m (unbuilt) │\n",
              "├─────────────────────────────────┼────────────────────────┼───────────────┤\n",
              "│ lstm (\u001b[38;5;33mLSTM\u001b[0m)                     │ ?                      │   \u001b[38;5;34m0\u001b[0m (unbuilt) │\n",
              "├─────────────────────────────────┼────────────────────────┼───────────────┤\n",
              "│ dense (\u001b[38;5;33mDense\u001b[0m)                   │ ?                      │   \u001b[38;5;34m0\u001b[0m (unbuilt) │\n",
              "└─────────────────────────────────┴────────────────────────┴───────────────┘\n"
            ],
            "text/html": [
              "<pre style=\"white-space:pre;overflow-x:auto;line-height:normal;font-family:Menlo,'DejaVu Sans Mono',consolas,'Courier New',monospace\">┏━━━━━━━━━━━━━━━━━━━━━━━━━━━━━━━━━┳━━━━━━━━━━━━━━━━━━━━━━━━┳━━━━━━━━━━━━━━━┓\n",
              "┃<span style=\"font-weight: bold\"> Layer (type)                    </span>┃<span style=\"font-weight: bold\"> Output Shape           </span>┃<span style=\"font-weight: bold\">       Param # </span>┃\n",
              "┡━━━━━━━━━━━━━━━━━━━━━━━━━━━━━━━━━╇━━━━━━━━━━━━━━━━━━━━━━━━╇━━━━━━━━━━━━━━━┩\n",
              "│ embedding (<span style=\"color: #0087ff; text-decoration-color: #0087ff\">Embedding</span>)           │ ?                      │   <span style=\"color: #00af00; text-decoration-color: #00af00\">0</span> (unbuilt) │\n",
              "├─────────────────────────────────┼────────────────────────┼───────────────┤\n",
              "│ lstm (<span style=\"color: #0087ff; text-decoration-color: #0087ff\">LSTM</span>)                     │ ?                      │   <span style=\"color: #00af00; text-decoration-color: #00af00\">0</span> (unbuilt) │\n",
              "├─────────────────────────────────┼────────────────────────┼───────────────┤\n",
              "│ dense (<span style=\"color: #0087ff; text-decoration-color: #0087ff\">Dense</span>)                   │ ?                      │   <span style=\"color: #00af00; text-decoration-color: #00af00\">0</span> (unbuilt) │\n",
              "└─────────────────────────────────┴────────────────────────┴───────────────┘\n",
              "</pre>\n"
            ]
          },
          "metadata": {}
        },
        {
          "output_type": "display_data",
          "data": {
            "text/plain": [
              "\u001b[1m Total params: \u001b[0m\u001b[38;5;34m0\u001b[0m (0.00 B)\n"
            ],
            "text/html": [
              "<pre style=\"white-space:pre;overflow-x:auto;line-height:normal;font-family:Menlo,'DejaVu Sans Mono',consolas,'Courier New',monospace\"><span style=\"font-weight: bold\"> Total params: </span><span style=\"color: #00af00; text-decoration-color: #00af00\">0</span> (0.00 B)\n",
              "</pre>\n"
            ]
          },
          "metadata": {}
        },
        {
          "output_type": "display_data",
          "data": {
            "text/plain": [
              "\u001b[1m Trainable params: \u001b[0m\u001b[38;5;34m0\u001b[0m (0.00 B)\n"
            ],
            "text/html": [
              "<pre style=\"white-space:pre;overflow-x:auto;line-height:normal;font-family:Menlo,'DejaVu Sans Mono',consolas,'Courier New',monospace\"><span style=\"font-weight: bold\"> Trainable params: </span><span style=\"color: #00af00; text-decoration-color: #00af00\">0</span> (0.00 B)\n",
              "</pre>\n"
            ]
          },
          "metadata": {}
        },
        {
          "output_type": "display_data",
          "data": {
            "text/plain": [
              "\u001b[1m Non-trainable params: \u001b[0m\u001b[38;5;34m0\u001b[0m (0.00 B)\n"
            ],
            "text/html": [
              "<pre style=\"white-space:pre;overflow-x:auto;line-height:normal;font-family:Menlo,'DejaVu Sans Mono',consolas,'Courier New',monospace\"><span style=\"font-weight: bold\"> Non-trainable params: </span><span style=\"color: #00af00; text-decoration-color: #00af00\">0</span> (0.00 B)\n",
              "</pre>\n"
            ]
          },
          "metadata": {}
        }
      ],
      "source": [
        "from keras.models import Sequential\n",
        "from keras.layers import Embedding, LSTM, Dense\n",
        "\n",
        "model_lstm = Sequential()\n",
        "model_lstm.add(Embedding(input_dim=vocab_size, output_dim=embedding_dim, input_length=max_context_size))\n",
        "model_lstm.add(LSTM(hidden_units, return_sequences=True, dropout=dropout))\n",
        "model_lstm.add(Dense(vocab_size, activation='softmax'))\n",
        "\n",
        "model_lstm.compile(loss='sparse_categorical_crossentropy', optimizer='rmsprop')\n",
        "model_lstm.summary()\n"
      ]
    },
    {
      "cell_type": "code",
      "execution_count": 13,
      "id": "uBQMvgpDEX3D",
      "metadata": {
        "colab": {
          "base_uri": "https://localhost:8080/"
        },
        "id": "uBQMvgpDEX3D",
        "outputId": "a3ba3f7a-b13f-4d34-e428-4df9bf9d22d0"
      },
      "outputs": [
        {
          "output_type": "stream",
          "name": "stdout",
          "text": [
            "Drive already mounted at /content/drive; to attempt to forcibly remount, call drive.mount(\"/content/drive\", force_remount=True).\n",
            "Epoch 1/20\n",
            "\u001b[1m3438/3438\u001b[0m \u001b[32m━━━━━━━━━━━━━━━━━━━━\u001b[0m\u001b[37m\u001b[0m \u001b[1m0s\u001b[0m 92ms/step - loss: 2.2142\n",
            " Perplejidad media: 6.0800\n",
            "Nuevo modelo guardado.\n",
            "\n",
            "Epoch 1: val_loss improved from inf to 1.80393, saving model to /content/drive/MyDrive/mejor_modelo_lstm.keras\n",
            "\u001b[1m3438/3438\u001b[0m \u001b[32m━━━━━━━━━━━━━━━━━━━━\u001b[0m\u001b[37m\u001b[0m \u001b[1m345s\u001b[0m 100ms/step - loss: 2.2141 - val_loss: 1.8039\n",
            "Epoch 2/20\n",
            "\u001b[1m3438/3438\u001b[0m \u001b[32m━━━━━━━━━━━━━━━━━━━━\u001b[0m\u001b[37m\u001b[0m \u001b[1m0s\u001b[0m 94ms/step - loss: 1.5353\n",
            " Perplejidad media: 5.5597\n",
            "Nuevo modelo guardado.\n",
            "\n",
            "Epoch 2: val_loss improved from 1.80393 to 1.70094, saving model to /content/drive/MyDrive/mejor_modelo_lstm.keras\n",
            "\u001b[1m3438/3438\u001b[0m \u001b[32m━━━━━━━━━━━━━━━━━━━━\u001b[0m\u001b[37m\u001b[0m \u001b[1m339s\u001b[0m 99ms/step - loss: 1.5353 - val_loss: 1.7009\n",
            "Epoch 3/20\n",
            "\u001b[1m3438/3438\u001b[0m \u001b[32m━━━━━━━━━━━━━━━━━━━━\u001b[0m\u001b[37m\u001b[0m \u001b[1m0s\u001b[0m 95ms/step - loss: 1.4224\n",
            " Perplejidad media: 5.3008\n",
            "Nuevo modelo guardado.\n",
            "\n",
            "Epoch 3: val_loss improved from 1.70094 to 1.64473, saving model to /content/drive/MyDrive/mejor_modelo_lstm.keras\n",
            "\u001b[1m3438/3438\u001b[0m \u001b[32m━━━━━━━━━━━━━━━━━━━━\u001b[0m\u001b[37m\u001b[0m \u001b[1m392s\u001b[0m 101ms/step - loss: 1.4223 - val_loss: 1.6447\n",
            "Epoch 4/20\n",
            "\u001b[1m3438/3438\u001b[0m \u001b[32m━━━━━━━━━━━━━━━━━━━━\u001b[0m\u001b[37m\u001b[0m \u001b[1m0s\u001b[0m 96ms/step - loss: 1.3605\n",
            " Perplejidad media: 5.1942\n",
            "Nuevo modelo guardado.\n",
            "\n",
            "Epoch 4: val_loss improved from 1.64473 to 1.60590, saving model to /content/drive/MyDrive/mejor_modelo_lstm.keras\n",
            "\u001b[1m3438/3438\u001b[0m \u001b[32m━━━━━━━━━━━━━━━━━━━━\u001b[0m\u001b[37m\u001b[0m \u001b[1m383s\u001b[0m 102ms/step - loss: 1.3605 - val_loss: 1.6059\n",
            "Epoch 5/20\n",
            "\u001b[1m3438/3438\u001b[0m \u001b[32m━━━━━━━━━━━━━━━━━━━━\u001b[0m\u001b[37m\u001b[0m \u001b[1m0s\u001b[0m 96ms/step - loss: 1.3161\n",
            " Perplejidad media: 5.3199\n",
            "\n",
            "Epoch 5: val_loss did not improve from 1.60590\n",
            "\u001b[1m3438/3438\u001b[0m \u001b[32m━━━━━━━━━━━━━━━━━━━━\u001b[0m\u001b[37m\u001b[0m \u001b[1m383s\u001b[0m 102ms/step - loss: 1.3161 - val_loss: 1.6185\n",
            "Epoch 6/20\n",
            "\u001b[1m3438/3438\u001b[0m \u001b[32m━━━━━━━━━━━━━━━━━━━━\u001b[0m\u001b[37m\u001b[0m \u001b[1m0s\u001b[0m 94ms/step - loss: 1.2824\n",
            " Perplejidad media: 5.4066\n",
            "\n",
            "Epoch 6: val_loss did not improve from 1.60590\n",
            "\u001b[1m3438/3438\u001b[0m \u001b[32m━━━━━━━━━━━━━━━━━━━━\u001b[0m\u001b[37m\u001b[0m \u001b[1m371s\u001b[0m 99ms/step - loss: 1.2824 - val_loss: 1.6376\n",
            "Epoch 7/20\n",
            "\u001b[1m3438/3438\u001b[0m \u001b[32m━━━━━━━━━━━━━━━━━━━━\u001b[0m\u001b[37m\u001b[0m \u001b[1m0s\u001b[0m 95ms/step - loss: 1.2556\n",
            " Perplejidad media: 5.3823\n",
            "\n",
            "Epoch 7: val_loss did not improve from 1.60590\n",
            "\u001b[1m3438/3438\u001b[0m \u001b[32m━━━━━━━━━━━━━━━━━━━━\u001b[0m\u001b[37m\u001b[0m \u001b[1m384s\u001b[0m 99ms/step - loss: 1.2555 - val_loss: 1.6220\n",
            "Epoch 8/20\n",
            "\u001b[1m3438/3438\u001b[0m \u001b[32m━━━━━━━━━━━━━━━━━━━━\u001b[0m\u001b[37m\u001b[0m \u001b[1m0s\u001b[0m 95ms/step - loss: 1.2308\n",
            " Perplejidad media: 5.4097\n",
            "\n",
            "Epoch 8: val_loss did not improve from 1.60590\n",
            "\u001b[1m3438/3438\u001b[0m \u001b[32m━━━━━━━━━━━━━━━━━━━━\u001b[0m\u001b[37m\u001b[0m \u001b[1m343s\u001b[0m 100ms/step - loss: 1.2308 - val_loss: 1.6368\n",
            "Epoch 8: early stopping\n",
            "Restoring model weights from the end of the best epoch: 4.\n"
          ]
        },
        {
          "output_type": "execute_result",
          "data": {
            "text/plain": [
              "<keras.src.callbacks.history.History at 0x7c5f86a99150>"
            ]
          },
          "metadata": {},
          "execution_count": 13
        }
      ],
      "source": [
        "from google.colab import drive\n",
        "from keras.callbacks import EarlyStopping, ModelCheckpoint\n",
        "import os\n",
        "\n",
        "# Montar Google Drive\n",
        "drive.mount('/content/drive')\n",
        "\n",
        "# Ruta Drive\n",
        "output_path = \"/content/drive/MyDrive/mejor_modelo_lstm.keras\"\n",
        "\n",
        "# Callback para guardar el mejor modelo según val_loss\n",
        "checkpoint_lstm = ModelCheckpoint(\n",
        "    output_path,\n",
        "    save_best_only=True,\n",
        "    monitor=\"val_loss\",\n",
        "    mode=\"min\",\n",
        "    verbose=1\n",
        ")\n",
        "\n",
        "# Early stop\n",
        "early_stop_lstm = EarlyStopping(\n",
        "    patience=4,\n",
        "    restore_best_weights=True,\n",
        "    monitor=\"val_loss\",\n",
        "    mode=\"min\",\n",
        "    verbose=1\n",
        ")\n",
        "\n",
        "# Entrenamiento con callbacks\n",
        "history_ppl = []\n",
        "\n",
        "model_lstm.fit(\n",
        "    X_train,\n",
        "    y_train,\n",
        "    epochs=20,\n",
        "    batch_size=64,\n",
        "    shuffle=True,\n",
        "    validation_data=(X_val, y_val),\n",
        "    callbacks=[\n",
        "        PplCallback(tokenized_sentences_val, history_ppl),\n",
        "        early_stop_lstm,\n",
        "        checkpoint_lstm\n",
        "    ],\n",
        "    verbose=1\n",
        ")\n"
      ]
    },
    {
      "cell_type": "code",
      "execution_count": 14,
      "id": "oi5h48RIGvhH",
      "metadata": {
        "id": "oi5h48RIGvhH",
        "colab": {
          "base_uri": "https://localhost:8080/",
          "height": 407
        },
        "outputId": "1638c13e-1228-44ca-b256-dd4c5399b4d9"
      },
      "outputs": [
        {
          "output_type": "display_data",
          "data": {
            "text/plain": [
              "<Figure size 800x400 with 1 Axes>"
            ],
            "image/png": "[encoded data removed]"
          },
          "metadata": {}
        }
      ],
      "source": [
        "import matplotlib.pyplot as plt\n",
        "\n",
        "plt.figure(figsize=(8, 4))\n",
        "plt.plot(history_ppl, marker='o', label='Perplexity (val)')\n",
        "plt.title('Perplejidad por época')\n",
        "plt.xlabel('Época')\n",
        "plt.ylabel('Perplejidad')\n",
        "plt.grid(True)\n",
        "plt.legend()\n",
        "plt.tight_layout()\n",
        "plt.show()\n"
      ]
    },
    {
      "cell_type": "markdown",
      "id": "GujZrSQoESjc",
      "metadata": {
        "id": "GujZrSQoESjc"
      },
      "source": [
        "#### GRU"
      ]
    },
    {
      "cell_type": "code",
      "execution_count": null,
      "id": "91lVPP9tEOrJ",
      "metadata": {
        "colab": {
          "base_uri": "https://localhost:8080/",
          "height": 242
        },
        "id": "91lVPP9tEOrJ",
        "outputId": "93ed5260-6f16-4c58-85cf-7a9ed7db0e7d"
      },
      "outputs": [
        {
          "data": {
            "text/html": [
              "<pre style=\"white-space:pre;overflow-x:auto;line-height:normal;font-family:Menlo,'DejaVu Sans Mono',consolas,'Courier New',monospace\"><span style=\"font-weight: bold\">Model: \"sequential_6\"</span>\n",
              "</pre>\n"
            ],
            "text/plain": [
              "\u001b[1mModel: \"sequential_6\"\u001b[0m\n"
            ]
          },
          "metadata": {},
          "output_type": "display_data"
        },
        {
          "data": {
            "text/html": [
              "<pre style=\"white-space:pre;overflow-x:auto;line-height:normal;font-family:Menlo,'DejaVu Sans Mono',consolas,'Courier New',monospace\">┏━━━━━━━━━━━━━━━━━━━━━━━━━━━━━━━━━┳━━━━━━━━━━━━━━━━━━━━━━━━┳━━━━━━━━━━━━━━━┓\n",
              "┃<span style=\"font-weight: bold\"> Layer (type)                    </span>┃<span style=\"font-weight: bold\"> Output Shape           </span>┃<span style=\"font-weight: bold\">       Param # </span>┃\n",
              "┡━━━━━━━━━━━━━━━━━━━━━━━━━━━━━━━━━╇━━━━━━━━━━━━━━━━━━━━━━━━╇━━━━━━━━━━━━━━━┩\n",
              "│ embedding_6 (<span style=\"color: #0087ff; text-decoration-color: #0087ff\">Embedding</span>)         │ ?                      │   <span style=\"color: #00af00; text-decoration-color: #00af00\">0</span> (unbuilt) │\n",
              "├─────────────────────────────────┼────────────────────────┼───────────────┤\n",
              "│ gru_5 (<span style=\"color: #0087ff; text-decoration-color: #0087ff\">GRU</span>)                     │ ?                      │   <span style=\"color: #00af00; text-decoration-color: #00af00\">0</span> (unbuilt) │\n",
              "├─────────────────────────────────┼────────────────────────┼───────────────┤\n",
              "│ dense_6 (<span style=\"color: #0087ff; text-decoration-color: #0087ff\">Dense</span>)                 │ ?                      │   <span style=\"color: #00af00; text-decoration-color: #00af00\">0</span> (unbuilt) │\n",
              "└─────────────────────────────────┴────────────────────────┴───────────────┘\n",
              "</pre>\n"
            ],
            "text/plain": [
              "┏━━━━━━━━━━━━━━━━━━━━━━━━━━━━━━━━━┳━━━━━━━━━━━━━━━━━━━━━━━━┳━━━━━━━━━━━━━━━┓\n",
              "┃\u001b[1m \u001b[0m\u001b[1mLayer (type)                   \u001b[0m\u001b[1m \u001b[0m┃\u001b[1m \u001b[0m\u001b[1mOutput Shape          \u001b[0m\u001b[1m \u001b[0m┃\u001b[1m \u001b[0m\u001b[1m      Param #\u001b[0m\u001b[1m \u001b[0m┃\n",
              "┡━━━━━━━━━━━━━━━━━━━━━━━━━━━━━━━━━╇━━━━━━━━━━━━━━━━━━━━━━━━╇━━━━━━━━━━━━━━━┩\n",
              "│ embedding_6 (\u001b[38;5;33mEmbedding\u001b[0m)         │ ?                      │   \u001b[38;5;34m0\u001b[0m (unbuilt) │\n",
              "├─────────────────────────────────┼────────────────────────┼───────────────┤\n",
              "│ gru_5 (\u001b[38;5;33mGRU\u001b[0m)                     │ ?                      │   \u001b[38;5;34m0\u001b[0m (unbuilt) │\n",
              "├─────────────────────────────────┼────────────────────────┼───────────────┤\n",
              "│ dense_6 (\u001b[38;5;33mDense\u001b[0m)                 │ ?                      │   \u001b[38;5;34m0\u001b[0m (unbuilt) │\n",
              "└─────────────────────────────────┴────────────────────────┴───────────────┘\n"
            ]
          },
          "metadata": {},
          "output_type": "display_data"
        },
        {
          "data": {
            "text/html": [
              "<pre style=\"white-space:pre;overflow-x:auto;line-height:normal;font-family:Menlo,'DejaVu Sans Mono',consolas,'Courier New',monospace\"><span style=\"font-weight: bold\"> Total params: </span><span style=\"color: #00af00; text-decoration-color: #00af00\">0</span> (0.00 B)\n",
              "</pre>\n"
            ],
            "text/plain": [
              "\u001b[1m Total params: \u001b[0m\u001b[38;5;34m0\u001b[0m (0.00 B)\n"
            ]
          },
          "metadata": {},
          "output_type": "display_data"
        },
        {
          "data": {
            "text/html": [
              "<pre style=\"white-space:pre;overflow-x:auto;line-height:normal;font-family:Menlo,'DejaVu Sans Mono',consolas,'Courier New',monospace\"><span style=\"font-weight: bold\"> Trainable params: </span><span style=\"color: #00af00; text-decoration-color: #00af00\">0</span> (0.00 B)\n",
              "</pre>\n"
            ],
            "text/plain": [
              "\u001b[1m Trainable params: \u001b[0m\u001b[38;5;34m0\u001b[0m (0.00 B)\n"
            ]
          },
          "metadata": {},
          "output_type": "display_data"
        },
        {
          "data": {
            "text/html": [
              "<pre style=\"white-space:pre;overflow-x:auto;line-height:normal;font-family:Menlo,'DejaVu Sans Mono',consolas,'Courier New',monospace\"><span style=\"font-weight: bold\"> Non-trainable params: </span><span style=\"color: #00af00; text-decoration-color: #00af00\">0</span> (0.00 B)\n",
              "</pre>\n"
            ],
            "text/plain": [
              "\u001b[1m Non-trainable params: \u001b[0m\u001b[38;5;34m0\u001b[0m (0.00 B)\n"
            ]
          },
          "metadata": {},
          "output_type": "display_data"
        }
      ],
      "source": [
        "from keras.models import Sequential\n",
        "from keras.layers import Embedding, GRU, Dense\n",
        "from keras.optimizers import Adam\n",
        "\n",
        "# Hiperparametros\n",
        "embedding_dim = 128\n",
        "hidden_units = 256\n",
        "dropout = 0.2\n",
        "recurrent_dropout = 0.1\n",
        "\n",
        "\n",
        "model_gru = Sequential()\n",
        "model_gru.add(Embedding(input_dim=vocab_size, output_dim=embedding_dim, input_length=max_context_size))\n",
        "model_gru.add(GRU(hidden_units, return_sequences=True, dropout=dropout, recurrent_dropout=recurrent_dropout))\n",
        "model_gru.add(Dense(vocab_size, activation='softmax'))\n",
        "\n",
        "# Compilar con un optimizador Adam\n",
        "model_gru.compile(loss='sparse_categorical_crossentropy', optimizer=Adam(learning_rate=0.001))\n",
        "model_gru.summary()\n"
      ]
    },
    {
      "cell_type": "code",
      "execution_count": null,
      "id": "85C04Zs4EfYM",
      "metadata": {
        "colab": {
          "base_uri": "https://localhost:8080/"
        },
        "id": "85C04Zs4EfYM",
        "outputId": "ec801239-afbd-45ac-d4a1-0d0ccd3830c9"
      },
      "outputs": [
        {
          "name": "stdout",
          "output_type": "stream",
          "text": [
            "Epoch 1/20\n",
            "\u001b[1m3438/3438\u001b[0m \u001b[32m━━━━━━━━━━━━━━━━━━━━\u001b[0m\u001b[37m\u001b[0m \u001b[1m0s\u001b[0m 90ms/step - loss: 1.8097\n",
            " Perplejidad media: 4.5917\n",
            "Nuevo modelo guardado.\n",
            "\n",
            "Epoch 1: val_loss improved from inf to 1.53119, saving model to mejor_modelo_gru.keras\n",
            "\u001b[1m3438/3438\u001b[0m \u001b[32m━━━━━━━━━━━━━━━━━━━━\u001b[0m\u001b[37m\u001b[0m \u001b[1m382s\u001b[0m 96ms/step - loss: 1.8096 - val_loss: 1.5312\n",
            "Epoch 2/20\n",
            "\u001b[1m3438/3438\u001b[0m \u001b[32m━━━━━━━━━━━━━━━━━━━━\u001b[0m\u001b[37m\u001b[0m \u001b[1m0s\u001b[0m 91ms/step - loss: 1.2763\n",
            " Perplejidad media: 4.6736\n",
            "\n",
            "Epoch 2: val_loss did not improve from 1.53119\n",
            "\u001b[1m3438/3438\u001b[0m \u001b[32m━━━━━━━━━━━━━━━━━━━━\u001b[0m\u001b[37m\u001b[0m \u001b[1m380s\u001b[0m 95ms/step - loss: 1.2763 - val_loss: 1.5369\n",
            "Epoch 3/20\n",
            "\u001b[1m3438/3438\u001b[0m \u001b[32m━━━━━━━━━━━━━━━━━━━━\u001b[0m\u001b[37m\u001b[0m \u001b[1m0s\u001b[0m 92ms/step - loss: 1.2244\n",
            " Perplejidad media: 4.7151\n",
            "\n",
            "Epoch 3: val_loss did not improve from 1.53119\n",
            "\u001b[1m3438/3438\u001b[0m \u001b[32m━━━━━━━━━━━━━━━━━━━━\u001b[0m\u001b[37m\u001b[0m \u001b[1m383s\u001b[0m 96ms/step - loss: 1.2244 - val_loss: 1.5470\n",
            "Epoch 4/20\n",
            "\u001b[1m3438/3438\u001b[0m \u001b[32m━━━━━━━━━━━━━━━━━━━━\u001b[0m\u001b[37m\u001b[0m \u001b[1m0s\u001b[0m 91ms/step - loss: 1.2006\n",
            " Perplejidad media: 4.5839\n",
            "Nuevo modelo guardado.\n",
            "\n",
            "Epoch 4: val_loss improved from 1.53119 to 1.51707, saving model to mejor_modelo_gru.keras\n",
            "\u001b[1m3438/3438\u001b[0m \u001b[32m━━━━━━━━━━━━━━━━━━━━\u001b[0m\u001b[37m\u001b[0m \u001b[1m387s\u001b[0m 97ms/step - loss: 1.2006 - val_loss: 1.5171\n",
            "Epoch 5/20\n",
            "\u001b[1m3438/3438\u001b[0m \u001b[32m━━━━━━━━━━━━━━━━━━━━\u001b[0m\u001b[37m\u001b[0m \u001b[1m0s\u001b[0m 91ms/step - loss: 1.1858\n",
            " Perplejidad media: 4.6305\n",
            "\n",
            "Epoch 5: val_loss did not improve from 1.51707\n",
            "\u001b[1m3438/3438\u001b[0m \u001b[32m━━━━━━━━━━━━━━━━━━━━\u001b[0m\u001b[37m\u001b[0m \u001b[1m381s\u001b[0m 97ms/step - loss: 1.1858 - val_loss: 1.5176\n",
            "Epoch 6/20\n",
            "\u001b[1m3438/3438\u001b[0m \u001b[32m━━━━━━━━━━━━━━━━━━━━\u001b[0m\u001b[37m\u001b[0m \u001b[1m0s\u001b[0m 91ms/step - loss: 1.1765\n",
            " Perplejidad media: 4.5627\n",
            "Nuevo modelo guardado.\n",
            "\n",
            "Epoch 6: val_loss improved from 1.51707 to 1.50092, saving model to mejor_modelo_gru.keras\n",
            "\u001b[1m3438/3438\u001b[0m \u001b[32m━━━━━━━━━━━━━━━━━━━━\u001b[0m\u001b[37m\u001b[0m \u001b[1m376s\u001b[0m 96ms/step - loss: 1.1765 - val_loss: 1.5009\n",
            "Epoch 7/20\n",
            "\u001b[1m3438/3438\u001b[0m \u001b[32m━━━━━━━━━━━━━━━━━━━━\u001b[0m\u001b[37m\u001b[0m \u001b[1m0s\u001b[0m 92ms/step - loss: 1.1696\n",
            " Perplejidad media: 4.7673\n",
            "\n",
            "Epoch 7: val_loss did not improve from 1.50092\n",
            "\u001b[1m3438/3438\u001b[0m \u001b[32m━━━━━━━━━━━━━━━━━━━━\u001b[0m\u001b[37m\u001b[0m \u001b[1m382s\u001b[0m 96ms/step - loss: 1.1696 - val_loss: 1.5346\n",
            "Epoch 8/20\n",
            "\u001b[1m3438/3438\u001b[0m \u001b[32m━━━━━━━━━━━━━━━━━━━━\u001b[0m\u001b[37m\u001b[0m \u001b[1m0s\u001b[0m 91ms/step - loss: 1.1635\n",
            " Perplejidad media: 4.7356\n",
            "\n",
            "Epoch 8: val_loss did not improve from 1.50092\n",
            "\u001b[1m3438/3438\u001b[0m \u001b[32m━━━━━━━━━━━━━━━━━━━━\u001b[0m\u001b[37m\u001b[0m \u001b[1m386s\u001b[0m 97ms/step - loss: 1.1635 - val_loss: 1.5312\n",
            "Epoch 9/20\n",
            "\u001b[1m3438/3438\u001b[0m \u001b[32m━━━━━━━━━━━━━━━━━━━━\u001b[0m\u001b[37m\u001b[0m \u001b[1m0s\u001b[0m 92ms/step - loss: 1.1584\n",
            " Perplejidad media: 4.6345\n",
            "\n",
            "Epoch 9: val_loss did not improve from 1.50092\n",
            "\u001b[1m3438/3438\u001b[0m \u001b[32m━━━━━━━━━━━━━━━━━━━━\u001b[0m\u001b[37m\u001b[0m \u001b[1m381s\u001b[0m 97ms/step - loss: 1.1584 - val_loss: 1.5077\n",
            "Epoch 10/20\n",
            "\u001b[1m3438/3438\u001b[0m \u001b[32m━━━━━━━━━━━━━━━━━━━━\u001b[0m\u001b[37m\u001b[0m \u001b[1m0s\u001b[0m 92ms/step - loss: 1.1548\n",
            " Perplejidad media: 4.7885\n",
            "\n",
            "Epoch 10: val_loss did not improve from 1.50092\n",
            "\u001b[1m3438/3438\u001b[0m \u001b[32m━━━━━━━━━━━━━━━━━━━━\u001b[0m\u001b[37m\u001b[0m \u001b[1m382s\u001b[0m 97ms/step - loss: 1.1548 - val_loss: 1.5371\n",
            "Epoch 10: early stopping\n",
            "Restoring model weights from the end of the best epoch: 6.\n"
          ]
        },
        {
          "data": {
            "text/plain": [
              "<keras.src.callbacks.history.History at 0x797b49d781d0>"
            ]
          },
          "execution_count": 26,
          "metadata": {},
          "output_type": "execute_result"
        }
      ],
      "source": [
        "from keras.callbacks import EarlyStopping, ModelCheckpoint\n",
        "\n",
        "# Guardado autom\n",
        "checkpoint = ModelCheckpoint(\n",
        "    \"mejor_modelo_gru.keras\",\n",
        "    save_best_only=True,\n",
        "    monitor=\"val_loss\",\n",
        "    mode=\"min\",\n",
        "    verbose=1\n",
        ")\n",
        "\n",
        "# Early stop\n",
        "early_stop = EarlyStopping(\n",
        "    patience=4,\n",
        "    restore_best_weights=True,\n",
        "    monitor=\"val_loss\",\n",
        "    mode=\"min\",\n",
        "    verbose=1\n",
        ")\n",
        "\n",
        "history_ppl_gru = []\n",
        "\n",
        "model_gru.fit(\n",
        "    X_train,\n",
        "    y_train,\n",
        "    epochs=20,\n",
        "    batch_size=64,\n",
        "    shuffle=True,\n",
        "    validation_data=(X_val, y_val),\n",
        "    callbacks=[\n",
        "        PplCallback(tokenized_sentences_val, history_ppl_gru),\n",
        "        early_stop,\n",
        "        checkpoint\n",
        "    ],\n",
        "    verbose=1\n",
        ")"
      ]
    },
    {
      "cell_type": "code",
      "execution_count": null,
      "id": "Wi3Vvh3sI1sd",
      "metadata": {
        "colab": {
          "base_uri": "https://localhost:8080/",
          "height": 407
        },
        "id": "Wi3Vvh3sI1sd",
        "outputId": "4c05b903-0a01-4996-80ae-2b65fad0482d"
      },
      "outputs": [
        {
          "data": {
            "image/png": "[encoded data removed]",
            "text/plain": [
              "<Figure size 800x400 with 1 Axes>"
            ]
          },
          "metadata": {},
          "output_type": "display_data"
        }
      ],
      "source": [
        "import matplotlib.pyplot as plt\n",
        "\n",
        "plt.figure(figsize=(8, 4))\n",
        "plt.plot(history_ppl_gru, marker='o', label='Perplexity (val) - GRU')\n",
        "plt.title('Perplejidad por época (GRU)')\n",
        "plt.xlabel('Época')\n",
        "plt.ylabel('Perplejidad')\n",
        "plt.grid(True)\n",
        "plt.legend()\n",
        "plt.tight_layout()\n",
        "plt.show()\n"
      ]
    },
    {
      "cell_type": "markdown",
      "id": "kVm7ErGQSJMn",
      "metadata": {
        "id": "kVm7ErGQSJMn"
      },
      "source": [
        "### Genereacion de texto\n",
        "\n",
        "Se tomo model_lstm para hacer una prueba de generacion de texto. Luego de correrlo varias veces fue el que mas estable se compartó en teminos de perplexity y evolucionó mejor a lo largo de las epochs."
      ]
    },
    {
      "cell_type": "code",
      "execution_count": 15,
      "id": "YYSwaLlgvRDz",
      "metadata": {
        "colab": {
          "base_uri": "https://localhost:8080/"
        },
        "id": "YYSwaLlgvRDz",
        "outputId": "ea78f006-57e3-4502-93e3-3229c2bb304a"
      },
      "outputs": [
        {
          "output_type": "stream",
          "name": "stdout",
          "text": [
            "Drive already mounted at /content/drive; to attempt to forcibly remount, call drive.mount(\"/content/drive\", force_remount=True).\n"
          ]
        }
      ],
      "source": [
        "from google.colab import drive\n",
        "drive.mount('/content/drive')"
      ]
    },
    {
      "cell_type": "code",
      "execution_count": 16,
      "id": "LGPf9mHvs06t",
      "metadata": {
        "id": "LGPf9mHvs06t",
        "colab": {
          "base_uri": "https://localhost:8080/"
        },
        "outputId": "8af4db16-ede8-4a8e-8faf-bab96da3fb4d"
      },
      "outputs": [
        {
          "output_type": "stream",
          "name": "stdout",
          "text": [
            "Modelo LSTM cargado\n"
          ]
        }
      ],
      "source": [
        "from tensorflow.keras.models import load_model\n",
        "\n",
        "model_lstm = load_model(\"/content/drive/MyDrive/mejor_modelo_lstm.keras\")\n",
        "print(\"Modelo LSTM cargado\")\n"
      ]
    },
    {
      "cell_type": "code",
      "execution_count": 21,
      "id": "jvSjpcaoCINu",
      "metadata": {
        "id": "jvSjpcaoCINu"
      },
      "outputs": [],
      "source": [
        "import numpy as np\n",
        "\n",
        "def sample_with_temperature(probabilities, temperature=1.0):\n",
        "    probabilities = np.asarray(probabilities).astype(\"float64\")\n",
        "    probabilities = np.log(probabilities + 1e-8) / temperature\n",
        "    exp_probs = np.exp(probabilities)\n",
        "    probabilities = exp_probs / np.sum(exp_probs)\n",
        "    return np.random.choice(len(probabilities), p=probabilities)\n",
        "\n",
        "def generate_text(model, seed_text, max_len=100, temperature=1.0, beam_width=1):\n",
        "    input_seq = [char_to_idx.get(c, 0) for c in seed_text]\n",
        "    input_seq = input_seq[-max_context_size:]\n",
        "\n",
        "    if beam_width == 1:\n",
        "        # Greedy/Sampling\n",
        "        for _ in range(max_len):\n",
        "            padded = np.array([input_seq[-max_context_size:]])\n",
        "            padded = np.pad(padded, ((0, 0), (max_context_size - len(padded[0]), 0)), mode='constant')\n",
        "            preds = model.predict(padded, verbose=0)[0][-1]\n",
        "            next_token = sample_with_temperature(preds, temperature)\n",
        "            input_seq.append(next_token)\n",
        "        return \"\".join(idx_to_char.get(i, \"\") for i in input_seq)\n",
        "\n",
        "    else:\n",
        "        # Beam Search\n",
        "        sequences = [[input_seq, 0.0]]\n",
        "        for _ in range(max_len):\n",
        "            all_candidates = []\n",
        "            for seq, score in sequences:\n",
        "                padded = np.array([seq[-max_context_size:]])\n",
        "                padded = np.pad(padded, ((0, 0), (max_context_size - len(padded[0]), 0)), mode='constant')\n",
        "                preds = model.predict(padded, verbose=0)[0][-1]\n",
        "                top_tokens = np.argsort(preds)[-beam_width:]\n",
        "                for t in top_tokens:\n",
        "                    candidate = [seq + [t], score - np.log(preds[t] + 1e-8)]\n",
        "                    all_candidates.append(candidate)\n",
        "            sequences = sorted(all_candidates, key=lambda tup: tup[1])[:beam_width]\n",
        "        best = sequences[0][0]\n",
        "        return \"\".join(idx_to_char.get(i, \"\") for i in best)"
      ]
    },
    {
      "cell_type": "code",
      "execution_count": 22,
      "id": "m7ISYHmesVDf",
      "metadata": {
        "id": "m7ISYHmesVDf",
        "colab": {
          "base_uri": "https://localhost:8080/"
        },
        "outputId": "eeceb5df-fc12-4c07-bd61-d855464d0c91"
      },
      "outputs": [
        {
          "output_type": "stream",
          "name": "stdout",
          "text": [
            "Greedy:\n",
            "monica said barry in a heads out peast, who alpare recay having my mainet small. barry: why don't-mas.phoebe: o\n",
            "\n",
            "Beam Search (beam_width=3):\n",
            "monica said you think you want to think you wanna be that things what you're gonna be that things what you know\n",
            "\n",
            "Sampling con temperatura alta (1.5):\n",
            "monica said kist eagesre.david: that's back?)axd bedtisn't. joey: oh stil: okay?cuh! rigge kindpuff.ross: pritt\n"
          ]
        }
      ],
      "source": [
        "seed = \"monica said\"\n",
        "\n",
        "print(\"Greedy:\")\n",
        "print(generate_text(model_lstm, seed_text=seed, temperature=1.0, beam_width=1))\n",
        "print()\n",
        "\n",
        "print(\"Beam Search (beam_width=3):\")\n",
        "print(generate_text(model_lstm, seed_text=seed, beam_width=3))\n",
        "print()\n",
        "\n",
        "print(\"Sampling con temperatura alta (1.5):\")\n",
        "print(generate_text(model_lstm, seed_text=seed, temperature=1.5, beam_width=1))\n"
      ]
    },
    {
      "cell_type": "markdown",
      "source": [
        "### Analisis de resultados\n",
        "\n",
        "Se entreno un modelo LSTM con corpus de Friends utilizando entrenamiento many-to-many con secuencias de 30 caracteres. Se evaluaron tres estrategias de generacion de texto:\n",
        "\n",
        "- **Greedy Search**: produce resultados coherentes a nivel gramatical, pero repetitivos y poco creativos.\n",
        "- **Beam Search (beam width = 3)**: logra mayor coherencia y repeticion de estructuras, pero tiende a frases redundantes.\n",
        "- **Sampling con temperatura alta (1.5)**: genera textos mas variados pero con mayor ruido y menos coherencia.\n",
        "\n",
        "En conjunto, se observa que el modelo capta patrones del lenguaje del corpus, aunque la calidad de los resultados depende fuertemente de la estrategia de decodificacion.\n"
      ],
      "metadata": {
        "id": "Gl5eYF8AmTbz"
      },
      "id": "Gl5eYF8AmTbz"
    }
  ],
  "metadata": {
    "accelerator": "GPU",
    "colab": {
      "gpuType": "T4",
      "provenance": []
    },
    "kernelspec": {
      "display_name": "Python 3",
      "name": "python3"
    },
    "language_info": {
      "codemirror_mode": {
        "name": "ipython",
        "version": 3
      },
      "file_extension": ".py",
      "mimetype": "text/x-python",
      "name": "python",
      "nbconvert_exporter": "python",
      "pygments_lexer": "ipython3",
      "version": "3.12.4"
    }
  },
  "nbformat": 4,
  "nbformat_minor": 5
}