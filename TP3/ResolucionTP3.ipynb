{
 "cells": [
  {
   "cell_type": "code",
   "execution_count": null,
   "id": "4c234be1",
   "metadata": {},
   "outputs": [
    {
     "name": "stdout",
     "output_type": "stream",
     "text": [
      "Archivo descargado como 'friends_script.txt'\n"
     ]
    }
   ],
   "source": [
    "\"\"\"import requests\n",
    "\n",
    "url = \"https://raw.githubusercontent.com/silentrob/superscript-friends/master/transcripts/friends.txt\"\n",
    "response = requests.get(url)\n",
    "\n",
    "with open(\"friends_script.txt\", \"w\", encoding=\"utf-8\") as f:\n",
    "    f.write(response.text)\n",
    "\n",
    "print(\"Archivo descargado como 'friends_script.txt'\")\n"
   ]
  },
  {
   "cell_type": "code",
   "execution_count": null,
   "id": "06087d57",
   "metadata": {},
   "outputs": [
    {
     "name": "stdout",
     "output_type": "stream",
     "text": [
      "Longitud total del corpus: 3247629 caracteres\n",
      "Primeros 1000 caracteres:\n",
      "Written by: Marta Kauffman & David Crane\n",
      "Monica: There's nothing to tell! He's just some guy I work with!\n",
      "Joey: C'mon, you're going out with the guy! There's gotta be something wrong with him!\n",
      "Chandler: All right Joey, be nice.  So does he have a hump? A hump and a hairpiece?\n",
      "Phoebe: Wait, does he eat chalk?\n",
      "Phoebe: Just, 'cause, I don't want her to go through what I went through with Carl- oh!\n",
      "Monica: Okay, everybody relax. This is not even a date. It's just two people going out to dinner and- \n"
     ]
    }
   ],
   "source": [
    "# Leer el corpus\n",
    "with open(\"friends_script.txt\", \"r\", encoding=\"utf-8\") as f:\n",
    "    text = f.read()\n",
    "\n",
    "print(f\"Longitud total del corpus: {len(text)} caracteres\")\n",
    "print(f\"Primeros 1000 caracteres:\\n{text[:500]}\")"
   ]
  },
  {
   "cell_type": "code",
   "execution_count": 30,
   "id": "af3ee21f",
   "metadata": {},
   "outputs": [],
   "source": [
    "import re\n",
    "import unicodedata\n",
    "\n",
    "def clean_raw_text(txt):\n",
    "    txt = re.sub(r\" +\", \" \", txt)\n",
    "    txt = re.sub(r\"\\[.*?\\]\", \"\", txt)\n",
    "    txt = re.sub(r\"\\(.*?\\)\", \"\", txt)\n",
    "    txt = \"\\n\".join([line for line in txt.splitlines() if line.strip() != \"\"])\n",
    "    txt = re.sub(r\"^(\\w+):\", lambda m: m.group(1).lower() + \":\", txt, flags=re.M)\n",
    "    return txt\n",
    "\n",
    "def normalize_text(txt):\n",
    "    txt = txt.lower()\n",
    "    txt = unicodedata.normalize(\"NFD\", txt)\n",
    "    txt = txt.encode(\"ascii\", \"ignore\").decode(\"utf-8\")\n",
    "    txt = re.sub(r\"[^a-z0-9.,!?'\\\\n:;()\\\" \\\\-]+\", '', txt)\n",
    "    return txt"
   ]
  },
  {
   "cell_type": "code",
   "execution_count": 31,
   "id": "0c1daf9c",
   "metadata": {},
   "outputs": [],
   "source": [
    "text = clean_raw_text(text)\n",
    "text = normalize_text(text)"
   ]
  },
  {
   "cell_type": "code",
   "execution_count": 32,
   "id": "94837491",
   "metadata": {},
   "outputs": [
    {
     "name": "stdout",
     "output_type": "stream",
     "text": [
      "Vocabulario: 48 caracteres\n"
     ]
    }
   ],
   "source": [
    "# Crear vocabulario y mappings\n",
    "chars = sorted(set(text))\n",
    "vocab_size = len(chars)\n",
    "print(f\"Vocabulario: {vocab_size} caracteres\")\n",
    "\n",
    "# Mapeo de caracteres a índices y viceversa\n",
    "char_to_idx = {ch: i for i, ch in enumerate(chars)}\n",
    "idx_to_char = {i: ch for i, ch in enumerate(chars)}\n",
    "\n",
    "# Vectorizar todo el texto\n",
    "encoded_text = [char_to_idx[c] for c in text]"
   ]
  },
  {
   "cell_type": "code",
   "execution_count": 33,
   "id": "67383f50",
   "metadata": {},
   "outputs": [
    {
     "name": "stdout",
     "output_type": "stream",
     "text": [
      "Número de secuencias: 3151889\n"
     ]
    }
   ],
   "source": [
    "# Longitud de cada secuencia\n",
    "seq_length = 100\n",
    "\n",
    "# Crear pares de secuencia (entrada y salida esperada)\n",
    "X = []\n",
    "y = []\n",
    "\n",
    "for i in range(0, len(text) - seq_length):\n",
    "    input_seq = text[i:i+seq_length]\n",
    "    output_char = text[i+seq_length]\n",
    "    X.append([char_to_idx[c] for c in input_seq])\n",
    "    y.append(char_to_idx[output_char])             \n",
    "\n",
    "print(f\"Número de secuencias: {len(X)}\")"
   ]
  },
  {
   "cell_type": "code",
   "execution_count": 34,
   "id": "cb53c695",
   "metadata": {},
   "outputs": [
    {
     "name": "stdout",
     "output_type": "stream",
     "text": [
      "Train: (2836689, 100), (2836689, 100)\n",
      "Val: (3151, 100), (3151, 100)\n"
     ]
    }
   ],
   "source": [
    "import numpy as np\n",
    "\n",
    "# Parámetros\n",
    "max_context_size = 100  # longitud de secuencia\n",
    "p_val = 0.1  # proporción para validación\n",
    "\n",
    "# Calcular cantidad de secuencias de validación\n",
    "num_val = int(np.ceil(len(encoded_text) * p_val / max_context_size))\n",
    "\n",
    "# Separar texto tokenizado en entrenamiento y validación\n",
    "train_text = encoded_text[:-num_val * max_context_size]\n",
    "val_text   = encoded_text[-num_val * max_context_size:]\n",
    "\n",
    "# Crear secuencias\n",
    "tokenized_sentences_train = [train_text[i:i + max_context_size] for i in range(len(train_text) - max_context_size + 1)]\n",
    "tokenized_sentences_val   = [val_text[i:i + max_context_size] for i in range(num_val)]\n",
    "\n",
    "# Dataset de entrenamiento: X e y (shift 1)\n",
    "X_train = np.array(tokenized_sentences_train[:-1])\n",
    "y_train = np.array(tokenized_sentences_train[1:])\n",
    "\n",
    "# Dataset de validación\n",
    "X_val = np.array(tokenized_sentences_val[:-1])\n",
    "y_val = np.array(tokenized_sentences_val[1:])\n",
    "\n",
    "print(f\"Train: {X_train.shape}, {y_train.shape}\")\n",
    "print(f\"Val: {X_val.shape}, {y_val.shape}\")\n"
   ]
  },
  {
   "cell_type": "markdown",
   "id": "963dfcb4",
   "metadata": {},
   "source": [
    "SimpleRNN"
   ]
  },
  {
   "cell_type": "code",
   "execution_count": 35,
   "id": "29b60963",
   "metadata": {},
   "outputs": [
    {
     "name": "stderr",
     "output_type": "stream",
     "text": [
      "c:\\Users\\USUARIO\\anaconda3\\envs\\IIA_CEIA\\Lib\\site-packages\\keras\\src\\layers\\core\\wrapper.py:27: UserWarning: Do not pass an `input_shape`/`input_dim` argument to a layer. When using Sequential models, prefer using an `Input(shape)` object as the first layer in the model instead.\n",
      "  super().__init__(**kwargs)\n"
     ]
    },
    {
     "data": {
      "text/html": [
       "<pre style=\"white-space:pre;overflow-x:auto;line-height:normal;font-family:Menlo,'DejaVu Sans Mono',consolas,'Courier New',monospace\"><span style=\"font-weight: bold\">Model: \"sequential\"</span>\n",
       "</pre>\n"
      ],
      "text/plain": [
       "\u001b[1mModel: \"sequential\"\u001b[0m\n"
      ]
     },
     "metadata": {},
     "output_type": "display_data"
    },
    {
     "data": {
      "text/html": [
       "<pre style=\"white-space:pre;overflow-x:auto;line-height:normal;font-family:Menlo,'DejaVu Sans Mono',consolas,'Courier New',monospace\">┏━━━━━━━━━━━━━━━━━━━━━━━━━━━━━━━━━┳━━━━━━━━━━━━━━━━━━━━━━━━┳━━━━━━━━━━━━━━━┓\n",
       "┃<span style=\"font-weight: bold\"> Layer (type)                    </span>┃<span style=\"font-weight: bold\"> Output Shape           </span>┃<span style=\"font-weight: bold\">       Param # </span>┃\n",
       "┡━━━━━━━━━━━━━━━━━━━━━━━━━━━━━━━━━╇━━━━━━━━━━━━━━━━━━━━━━━━╇━━━━━━━━━━━━━━━┩\n",
       "│ time_distributed                │ (<span style=\"color: #00d7ff; text-decoration-color: #00d7ff\">None</span>, <span style=\"color: #00d7ff; text-decoration-color: #00d7ff\">None</span>, <span style=\"color: #00af00; text-decoration-color: #00af00\">48</span>)       │             <span style=\"color: #00af00; text-decoration-color: #00af00\">0</span> │\n",
       "│ (<span style=\"color: #0087ff; text-decoration-color: #0087ff\">TimeDistributed</span>)               │                        │               │\n",
       "├─────────────────────────────────┼────────────────────────┼───────────────┤\n",
       "│ simple_rnn (<span style=\"color: #0087ff; text-decoration-color: #0087ff\">SimpleRNN</span>)          │ (<span style=\"color: #00d7ff; text-decoration-color: #00d7ff\">None</span>, <span style=\"color: #00d7ff; text-decoration-color: #00d7ff\">None</span>, <span style=\"color: #00af00; text-decoration-color: #00af00\">200</span>)      │        <span style=\"color: #00af00; text-decoration-color: #00af00\">49,800</span> │\n",
       "├─────────────────────────────────┼────────────────────────┼───────────────┤\n",
       "│ dense (<span style=\"color: #0087ff; text-decoration-color: #0087ff\">Dense</span>)                   │ (<span style=\"color: #00d7ff; text-decoration-color: #00d7ff\">None</span>, <span style=\"color: #00d7ff; text-decoration-color: #00d7ff\">None</span>, <span style=\"color: #00af00; text-decoration-color: #00af00\">48</span>)       │         <span style=\"color: #00af00; text-decoration-color: #00af00\">9,648</span> │\n",
       "└─────────────────────────────────┴────────────────────────┴───────────────┘\n",
       "</pre>\n"
      ],
      "text/plain": [
       "┏━━━━━━━━━━━━━━━━━━━━━━━━━━━━━━━━━┳━━━━━━━━━━━━━━━━━━━━━━━━┳━━━━━━━━━━━━━━━┓\n",
       "┃\u001b[1m \u001b[0m\u001b[1mLayer (type)                   \u001b[0m\u001b[1m \u001b[0m┃\u001b[1m \u001b[0m\u001b[1mOutput Shape          \u001b[0m\u001b[1m \u001b[0m┃\u001b[1m \u001b[0m\u001b[1m      Param #\u001b[0m\u001b[1m \u001b[0m┃\n",
       "┡━━━━━━━━━━━━━━━━━━━━━━━━━━━━━━━━━╇━━━━━━━━━━━━━━━━━━━━━━━━╇━━━━━━━━━━━━━━━┩\n",
       "│ time_distributed                │ (\u001b[38;5;45mNone\u001b[0m, \u001b[38;5;45mNone\u001b[0m, \u001b[38;5;34m48\u001b[0m)       │             \u001b[38;5;34m0\u001b[0m │\n",
       "│ (\u001b[38;5;33mTimeDistributed\u001b[0m)               │                        │               │\n",
       "├─────────────────────────────────┼────────────────────────┼───────────────┤\n",
       "│ simple_rnn (\u001b[38;5;33mSimpleRNN\u001b[0m)          │ (\u001b[38;5;45mNone\u001b[0m, \u001b[38;5;45mNone\u001b[0m, \u001b[38;5;34m200\u001b[0m)      │        \u001b[38;5;34m49,800\u001b[0m │\n",
       "├─────────────────────────────────┼────────────────────────┼───────────────┤\n",
       "│ dense (\u001b[38;5;33mDense\u001b[0m)                   │ (\u001b[38;5;45mNone\u001b[0m, \u001b[38;5;45mNone\u001b[0m, \u001b[38;5;34m48\u001b[0m)       │         \u001b[38;5;34m9,648\u001b[0m │\n",
       "└─────────────────────────────────┴────────────────────────┴───────────────┘\n"
      ]
     },
     "metadata": {},
     "output_type": "display_data"
    },
    {
     "data": {
      "text/html": [
       "<pre style=\"white-space:pre;overflow-x:auto;line-height:normal;font-family:Menlo,'DejaVu Sans Mono',consolas,'Courier New',monospace\"><span style=\"font-weight: bold\"> Total params: </span><span style=\"color: #00af00; text-decoration-color: #00af00\">59,448</span> (232.22 KB)\n",
       "</pre>\n"
      ],
      "text/plain": [
       "\u001b[1m Total params: \u001b[0m\u001b[38;5;34m59,448\u001b[0m (232.22 KB)\n"
      ]
     },
     "metadata": {},
     "output_type": "display_data"
    },
    {
     "data": {
      "text/html": [
       "<pre style=\"white-space:pre;overflow-x:auto;line-height:normal;font-family:Menlo,'DejaVu Sans Mono',consolas,'Courier New',monospace\"><span style=\"font-weight: bold\"> Trainable params: </span><span style=\"color: #00af00; text-decoration-color: #00af00\">59,448</span> (232.22 KB)\n",
       "</pre>\n"
      ],
      "text/plain": [
       "\u001b[1m Trainable params: \u001b[0m\u001b[38;5;34m59,448\u001b[0m (232.22 KB)\n"
      ]
     },
     "metadata": {},
     "output_type": "display_data"
    },
    {
     "data": {
      "text/html": [
       "<pre style=\"white-space:pre;overflow-x:auto;line-height:normal;font-family:Menlo,'DejaVu Sans Mono',consolas,'Courier New',monospace\"><span style=\"font-weight: bold\"> Non-trainable params: </span><span style=\"color: #00af00; text-decoration-color: #00af00\">0</span> (0.00 B)\n",
       "</pre>\n"
      ],
      "text/plain": [
       "\u001b[1m Non-trainable params: \u001b[0m\u001b[38;5;34m0\u001b[0m (0.00 B)\n"
      ]
     },
     "metadata": {},
     "output_type": "display_data"
    }
   ],
   "source": [
    "from keras.models import Sequential\n",
    "from keras.layers import TimeDistributed, CategoryEncoding, SimpleRNN, Dense\n",
    "\n",
    "model = Sequential()\n",
    "model.add(TimeDistributed(\n",
    "    CategoryEncoding(num_tokens=vocab_size, output_mode=\"one_hot\"),\n",
    "    input_shape=(None, 1))\n",
    ")\n",
    "model.add(SimpleRNN(200, return_sequences=True, dropout=0.1, recurrent_dropout=0.1))\n",
    "model.add(Dense(vocab_size, activation='softmax'))\n",
    "\n",
    "model.compile(loss='sparse_categorical_crossentropy', optimizer='rmsprop')\n",
    "model.summary()\n"
   ]
  },
  {
   "cell_type": "code",
   "execution_count": 36,
   "id": "f09cb847",
   "metadata": {},
   "outputs": [],
   "source": [
    "from keras.callbacks import Callback\n",
    "from tensorflow.keras.preprocessing.sequence import pad_sequences\n",
    "import numpy as np\n",
    "\n",
    "class PplCallback(Callback):\n",
    "    def __init__(self, val_data, history_ppl, patience=5):\n",
    "        self.val_data = val_data\n",
    "        self.target = []\n",
    "        self.padded = []\n",
    "        self.info = []\n",
    "        self.min_score = np.inf\n",
    "        self.patience = patience\n",
    "        self.patience_counter = 0\n",
    "        count = 0\n",
    "\n",
    "        for seq in self.val_data:\n",
    "            len_seq = len(seq)\n",
    "            subseq = [seq[:i] for i in range(1, len_seq)]\n",
    "            self.target.extend([seq[i] for i in range(1, len_seq)])\n",
    "            if len(subseq) > 0:\n",
    "                self.padded.append(pad_sequences(subseq, maxlen=max_context_size, padding='pre'))\n",
    "                self.info.append((count, count + len_seq))\n",
    "                count += len_seq\n",
    "\n",
    "        self.padded = np.vstack(self.padded)\n",
    "\n",
    "    def on_epoch_end(self, epoch, logs=None):\n",
    "        scores = []\n",
    "        predictions = self.model.predict(self.padded, verbose=0)\n",
    "        for start, end in self.info:\n",
    "            probs = [predictions[i, -1, self.target[i]] for i in range(start, end)]\n",
    "            scores.append(np.exp(-np.sum(np.log(probs)) / (end - start)))\n",
    "\n",
    "        current_score = np.mean(scores)\n",
    "        history_ppl.append(current_score)\n",
    "        print(f'\\n Perplejidad media: {current_score:.4f}')\n",
    "\n",
    "        if current_score < self.min_score:\n",
    "            self.min_score = current_score\n",
    "            self.model.save(\"my_model.keras\")\n",
    "            print(\"Nuevo modelo guardado.\")\n",
    "            self.patience_counter = 0\n",
    "        else:\n",
    "            self.patience_counter += 1\n",
    "            if self.patience_counter >= self.patience:\n",
    "                print(\"Early stopping activado.\")\n",
    "                self.model.stop_training = True\n"
   ]
  },
  {
   "cell_type": "code",
   "execution_count": 37,
   "id": "d5c6127b",
   "metadata": {},
   "outputs": [
    {
     "name": "stdout",
     "output_type": "stream",
     "text": [
      "Epoch 1/20\n",
      "\u001b[1m11081/11081\u001b[0m \u001b[32m━━━━━━━━━━━━━━━━━━━━\u001b[0m\u001b[37m\u001b[0m \u001b[1m0s\u001b[0m 125ms/step - loss: 1.8761"
     ]
    },
    {
     "ename": "",
     "evalue": "",
     "output_type": "error",
     "traceback": [
      "\u001b[1;31mThe Kernel crashed while executing code in the current cell or a previous cell. \n",
      "\u001b[1;31mPlease review the code in the cell(s) to identify a possible cause of the failure. \n",
      "\u001b[1;31mClick <a href='https://aka.ms/vscodeJupyterKernelCrash'>here</a> for more info. \n",
      "\u001b[1;31mView Jupyter <a href='command:jupyter.viewOutput'>log</a> for further details."
     ]
    }
   ],
   "source": [
    "history_ppl = []\n",
    "\n",
    "hist = model.fit(\n",
    "    X_train[..., np.newaxis],  # expandir dimensión\n",
    "    y_train[..., np.newaxis],\n",
    "    epochs=20,\n",
    "    batch_size=256,\n",
    "    callbacks=[PplCallback(tokenized_sentences_val, history_ppl)]\n",
    ")"
   ]
  },
  {
   "cell_type": "code",
   "execution_count": null,
   "id": "fc8933a2",
   "metadata": {},
   "outputs": [],
   "source": [
    "import matplotlib.pyplot as plt\n",
    "import seaborn as sns\n",
    "\n",
    "plt.figure(figsize=(10, 5))\n",
    "sns.lineplot(x=range(1, len(history_ppl)+1), y=history_ppl)\n",
    "plt.xlabel(\"Épocas\")\n",
    "plt.ylabel(\"Perplejidad\")\n",
    "plt.title(\"Evolución de perplejidad\")\n",
    "plt.show()\n"
   ]
  }
 ],
 "metadata": {
  "kernelspec": {
   "display_name": "IIA_CEIA",
   "language": "python",
   "name": "python3"
  },
  "language_info": {
   "codemirror_mode": {
    "name": "ipython",
    "version": 3
   },
   "file_extension": ".py",
   "mimetype": "text/x-python",
   "name": "python",
   "nbconvert_exporter": "python",
   "pygments_lexer": "ipython3",
   "version": "3.12.4"
  }
 },
 "nbformat": 4,
 "nbformat_minor": 5
}
