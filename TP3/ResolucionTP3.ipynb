{
 "cells": [
  {
   "cell_type": "code",
   "execution_count": 11,
   "id": "4c234be1",
   "metadata": {},
   "outputs": [
    {
     "name": "stdout",
     "output_type": "stream",
     "text": [
      "Archivo descargado como 'friends_script.txt'\n"
     ]
    }
   ],
   "source": [
    "import requests\n",
    "\n",
    "url = \"https://raw.githubusercontent.com/silentrob/superscript-friends/master/transcripts/friends.txt\"\n",
    "response = requests.get(url)\n",
    "\n",
    "with open(\"friends_script.txt\", \"w\", encoding=\"utf-8\") as f:\n",
    "    f.write(response.text)\n",
    "\n",
    "print(\"Archivo descargado como 'friends_script.txt'\")\n",
    "\n"
   ]
  },
  {
   "cell_type": "code",
   "execution_count": 15,
   "id": "06087d57",
   "metadata": {},
   "outputs": [
    {
     "name": "stdout",
     "output_type": "stream",
     "text": [
      "Longitud total del corpus: 3247629 caracteres\n",
      "Primeros 1000 caracteres:\n",
      "Written by: Marta Kauffman & David Crane\n",
      "Monica: There's nothing to tell! He's just some guy I work with!\n",
      "Joey: C'mon, you're going out with the guy! There's gotta be something wrong with him!\n",
      "Chandler: All right Joey, be nice.  So does he have a hump? A hump and a hairpiece?\n",
      "Phoebe: Wait, does he eat chalk?\n",
      "Phoebe: Just, 'cause, I don't want her to go through what I went through with Carl- oh!\n",
      "Monica: Okay, everybody relax. This is not even a date. It's just two people going out to dinner and- \n"
     ]
    }
   ],
   "source": [
    "# Leer el corpus\n",
    "with open(\"friends_script.txt\", \"r\", encoding=\"utf-8\") as f:\n",
    "    text = f.read()\n",
    "\n",
    "print(f\"Longitud total del corpus: {len(text)} caracteres\")\n",
    "print(f\"Primeros 1000 caracteres:\\n{text[:500]}\")"
   ]
  }
 ],
 "metadata": {
  "kernelspec": {
   "display_name": "IIA_CEIA",
   "language": "python",
   "name": "python3"
  },
  "language_info": {
   "codemirror_mode": {
    "name": "ipython",
    "version": 3
   },
   "file_extension": ".py",
   "mimetype": "text/x-python",
   "name": "python",
   "nbconvert_exporter": "python",
   "pygments_lexer": "ipython3",
   "version": "3.12.4"
  }
 },
 "nbformat": 4,
 "nbformat_minor": 5
}
